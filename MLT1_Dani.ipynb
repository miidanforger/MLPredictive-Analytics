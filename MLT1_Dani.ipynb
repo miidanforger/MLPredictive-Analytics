{
  "nbformat": 4,
  "nbformat_minor": 0,
  "metadata": {
    "colab": {
      "provenance": []
    },
    "kernelspec": {
      "name": "python3",
      "display_name": "Python 3"
    },
    "language_info": {
      "name": "python"
    }
  },
  "cells": [
    {
      "cell_type": "markdown",
      "source": [
        "# Predictive Analytics - Klasifikasi"
      ],
      "metadata": {
        "id": "XSm7f947fDgn"
      }
    },
    {
      "cell_type": "markdown",
      "source": [
        "## Importing Libraries"
      ],
      "metadata": {
        "id": "DWsm8z2PfT4I"
      }
    },
    {
      "cell_type": "code",
      "source": [
        "!pip install opendatasets"
      ],
      "metadata": {
        "colab": {
          "base_uri": "https://localhost:8080/"
        },
        "id": "k3t1DszbfTUF",
        "outputId": "f1d67a8c-7151-460d-aa2b-c647a0e7d1f0"
      },
      "execution_count": 34,
      "outputs": [
        {
          "output_type": "stream",
          "name": "stdout",
          "text": [
            "Looking in indexes: https://pypi.org/simple, https://us-python.pkg.dev/colab-wheels/public/simple/\n",
            "Requirement already satisfied: opendatasets in /usr/local/lib/python3.8/dist-packages (0.1.22)\n",
            "Requirement already satisfied: kaggle in /usr/local/lib/python3.8/dist-packages (from opendatasets) (1.5.12)\n",
            "Requirement already satisfied: click in /usr/local/lib/python3.8/dist-packages (from opendatasets) (7.1.2)\n",
            "Requirement already satisfied: tqdm in /usr/local/lib/python3.8/dist-packages (from opendatasets) (4.64.1)\n",
            "Requirement already satisfied: python-slugify in /usr/local/lib/python3.8/dist-packages (from kaggle->opendatasets) (7.0.0)\n",
            "Requirement already satisfied: certifi in /usr/local/lib/python3.8/dist-packages (from kaggle->opendatasets) (2022.9.24)\n",
            "Requirement already satisfied: python-dateutil in /usr/local/lib/python3.8/dist-packages (from kaggle->opendatasets) (2.8.2)\n",
            "Requirement already satisfied: requests in /usr/local/lib/python3.8/dist-packages (from kaggle->opendatasets) (2.23.0)\n",
            "Requirement already satisfied: six>=1.10 in /usr/local/lib/python3.8/dist-packages (from kaggle->opendatasets) (1.15.0)\n",
            "Requirement already satisfied: urllib3 in /usr/local/lib/python3.8/dist-packages (from kaggle->opendatasets) (1.24.3)\n",
            "Requirement already satisfied: text-unidecode>=1.3 in /usr/local/lib/python3.8/dist-packages (from python-slugify->kaggle->opendatasets) (1.3)\n",
            "Requirement already satisfied: idna<3,>=2.5 in /usr/local/lib/python3.8/dist-packages (from requests->kaggle->opendatasets) (2.10)\n",
            "Requirement already satisfied: chardet<4,>=3.0.2 in /usr/local/lib/python3.8/dist-packages (from requests->kaggle->opendatasets) (3.0.4)\n"
          ]
        }
      ]
    },
    {
      "cell_type": "markdown",
      "source": [
        "## Data Loading"
      ],
      "metadata": {
        "id": "-guI5Em7fXq2"
      }
    },
    {
      "cell_type": "code",
      "source": [
        "import numpy as np\n",
        "import matplotlib.pyplot as plt\n",
        "import pandas as pd\n",
        "%matplotlib inline\n",
        "import seaborn as sns\n",
        "import opendatasets as od\n",
        "from sklearn.preprocessing import StandardScaler\n",
        "from sklearn.decomposition import PCA\n",
        "from sklearn.model_selection import GridSearchCV\n",
        "from sklearn.neighbors import KNeighborsClassifier\n",
        "from sklearn.ensemble import RandomForestClassifier\n",
        "from sklearn.ensemble import AdaBoostClassifier\n",
        "from sklearn.metrics import accuracy_score"
      ],
      "metadata": {
        "id": "lNKYi-DAiGZg"
      },
      "execution_count": 35,
      "outputs": []
    },
    {
      "cell_type": "code",
      "source": [
        "od.download(\"https://www.kaggle.com/datasets/whenamancodes/blood-transfusion-dataset\")"
      ],
      "metadata": {
        "colab": {
          "base_uri": "https://localhost:8080/"
        },
        "id": "D0JRVQ1giJOO",
        "outputId": "36b4b1a8-45ff-4dc4-ebd9-8bb93b4c80e1"
      },
      "execution_count": 36,
      "outputs": [
        {
          "output_type": "stream",
          "name": "stdout",
          "text": [
            "Skipping, found downloaded files in \"./blood-transfusion-dataset\" (use force=True to force download)\n"
          ]
        }
      ]
    },
    {
      "cell_type": "code",
      "source": [
        "blood = pd.read_csv(\"/content/blood-transfusion-dataset/transfusion.csv\")\n",
        "blood.head()"
      ],
      "metadata": {
        "colab": {
          "base_uri": "https://localhost:8080/",
          "height": 0
        },
        "id": "pJcIeWK7igy4",
        "outputId": "c84f829f-b544-478c-bbb4-e66c2b9ff028"
      },
      "execution_count": 37,
      "outputs": [
        {
          "output_type": "execute_result",
          "data": {
            "text/plain": [
              "   Recency (months)  Frequency (times)  Monetary (c.c. blood)  Time (months)  \\\n",
              "0                 2                 50                  12500             98   \n",
              "1                 0                 13                   3250             28   \n",
              "2                 1                 16                   4000             35   \n",
              "3                 2                 20                   5000             45   \n",
              "4                 1                 24                   6000             77   \n",
              "\n",
              "   whether he/she donated blood in March 2007  \n",
              "0                                           1  \n",
              "1                                           1  \n",
              "2                                           1  \n",
              "3                                           1  \n",
              "4                                           0  "
            ],
            "text/html": [
              "\n",
              "  <div id=\"df-f79b7faa-7792-42fb-b97a-3377de2048f3\">\n",
              "    <div class=\"colab-df-container\">\n",
              "      <div>\n",
              "<style scoped>\n",
              "    .dataframe tbody tr th:only-of-type {\n",
              "        vertical-align: middle;\n",
              "    }\n",
              "\n",
              "    .dataframe tbody tr th {\n",
              "        vertical-align: top;\n",
              "    }\n",
              "\n",
              "    .dataframe thead th {\n",
              "        text-align: right;\n",
              "    }\n",
              "</style>\n",
              "<table border=\"1\" class=\"dataframe\">\n",
              "  <thead>\n",
              "    <tr style=\"text-align: right;\">\n",
              "      <th></th>\n",
              "      <th>Recency (months)</th>\n",
              "      <th>Frequency (times)</th>\n",
              "      <th>Monetary (c.c. blood)</th>\n",
              "      <th>Time (months)</th>\n",
              "      <th>whether he/she donated blood in March 2007</th>\n",
              "    </tr>\n",
              "  </thead>\n",
              "  <tbody>\n",
              "    <tr>\n",
              "      <th>0</th>\n",
              "      <td>2</td>\n",
              "      <td>50</td>\n",
              "      <td>12500</td>\n",
              "      <td>98</td>\n",
              "      <td>1</td>\n",
              "    </tr>\n",
              "    <tr>\n",
              "      <th>1</th>\n",
              "      <td>0</td>\n",
              "      <td>13</td>\n",
              "      <td>3250</td>\n",
              "      <td>28</td>\n",
              "      <td>1</td>\n",
              "    </tr>\n",
              "    <tr>\n",
              "      <th>2</th>\n",
              "      <td>1</td>\n",
              "      <td>16</td>\n",
              "      <td>4000</td>\n",
              "      <td>35</td>\n",
              "      <td>1</td>\n",
              "    </tr>\n",
              "    <tr>\n",
              "      <th>3</th>\n",
              "      <td>2</td>\n",
              "      <td>20</td>\n",
              "      <td>5000</td>\n",
              "      <td>45</td>\n",
              "      <td>1</td>\n",
              "    </tr>\n",
              "    <tr>\n",
              "      <th>4</th>\n",
              "      <td>1</td>\n",
              "      <td>24</td>\n",
              "      <td>6000</td>\n",
              "      <td>77</td>\n",
              "      <td>0</td>\n",
              "    </tr>\n",
              "  </tbody>\n",
              "</table>\n",
              "</div>\n",
              "      <button class=\"colab-df-convert\" onclick=\"convertToInteractive('df-f79b7faa-7792-42fb-b97a-3377de2048f3')\"\n",
              "              title=\"Convert this dataframe to an interactive table.\"\n",
              "              style=\"display:none;\">\n",
              "        \n",
              "  <svg xmlns=\"http://www.w3.org/2000/svg\" height=\"24px\"viewBox=\"0 0 24 24\"\n",
              "       width=\"24px\">\n",
              "    <path d=\"M0 0h24v24H0V0z\" fill=\"none\"/>\n",
              "    <path d=\"M18.56 5.44l.94 2.06.94-2.06 2.06-.94-2.06-.94-.94-2.06-.94 2.06-2.06.94zm-11 1L8.5 8.5l.94-2.06 2.06-.94-2.06-.94L8.5 2.5l-.94 2.06-2.06.94zm10 10l.94 2.06.94-2.06 2.06-.94-2.06-.94-.94-2.06-.94 2.06-2.06.94z\"/><path d=\"M17.41 7.96l-1.37-1.37c-.4-.4-.92-.59-1.43-.59-.52 0-1.04.2-1.43.59L10.3 9.45l-7.72 7.72c-.78.78-.78 2.05 0 2.83L4 21.41c.39.39.9.59 1.41.59.51 0 1.02-.2 1.41-.59l7.78-7.78 2.81-2.81c.8-.78.8-2.07 0-2.86zM5.41 20L4 18.59l7.72-7.72 1.47 1.35L5.41 20z\"/>\n",
              "  </svg>\n",
              "      </button>\n",
              "      \n",
              "  <style>\n",
              "    .colab-df-container {\n",
              "      display:flex;\n",
              "      flex-wrap:wrap;\n",
              "      gap: 12px;\n",
              "    }\n",
              "\n",
              "    .colab-df-convert {\n",
              "      background-color: #E8F0FE;\n",
              "      border: none;\n",
              "      border-radius: 50%;\n",
              "      cursor: pointer;\n",
              "      display: none;\n",
              "      fill: #1967D2;\n",
              "      height: 32px;\n",
              "      padding: 0 0 0 0;\n",
              "      width: 32px;\n",
              "    }\n",
              "\n",
              "    .colab-df-convert:hover {\n",
              "      background-color: #E2EBFA;\n",
              "      box-shadow: 0px 1px 2px rgba(60, 64, 67, 0.3), 0px 1px 3px 1px rgba(60, 64, 67, 0.15);\n",
              "      fill: #174EA6;\n",
              "    }\n",
              "\n",
              "    [theme=dark] .colab-df-convert {\n",
              "      background-color: #3B4455;\n",
              "      fill: #D2E3FC;\n",
              "    }\n",
              "\n",
              "    [theme=dark] .colab-df-convert:hover {\n",
              "      background-color: #434B5C;\n",
              "      box-shadow: 0px 1px 3px 1px rgba(0, 0, 0, 0.15);\n",
              "      filter: drop-shadow(0px 1px 2px rgba(0, 0, 0, 0.3));\n",
              "      fill: #FFFFFF;\n",
              "    }\n",
              "  </style>\n",
              "\n",
              "      <script>\n",
              "        const buttonEl =\n",
              "          document.querySelector('#df-f79b7faa-7792-42fb-b97a-3377de2048f3 button.colab-df-convert');\n",
              "        buttonEl.style.display =\n",
              "          google.colab.kernel.accessAllowed ? 'block' : 'none';\n",
              "\n",
              "        async function convertToInteractive(key) {\n",
              "          const element = document.querySelector('#df-f79b7faa-7792-42fb-b97a-3377de2048f3');\n",
              "          const dataTable =\n",
              "            await google.colab.kernel.invokeFunction('convertToInteractive',\n",
              "                                                     [key], {});\n",
              "          if (!dataTable) return;\n",
              "\n",
              "          const docLinkHtml = 'Like what you see? Visit the ' +\n",
              "            '<a target=\"_blank\" href=https://colab.research.google.com/notebooks/data_table.ipynb>data table notebook</a>'\n",
              "            + ' to learn more about interactive tables.';\n",
              "          element.innerHTML = '';\n",
              "          dataTable['output_type'] = 'display_data';\n",
              "          await google.colab.output.renderOutput(dataTable, element);\n",
              "          const docLink = document.createElement('div');\n",
              "          docLink.innerHTML = docLinkHtml;\n",
              "          element.appendChild(docLink);\n",
              "        }\n",
              "      </script>\n",
              "    </div>\n",
              "  </div>\n",
              "  "
            ]
          },
          "metadata": {},
          "execution_count": 37
        }
      ]
    },
    {
      "cell_type": "code",
      "source": [
        "print(len(blood))\n",
        "blood.keys()"
      ],
      "metadata": {
        "colab": {
          "base_uri": "https://localhost:8080/"
        },
        "id": "-F6wmbpYjdaA",
        "outputId": "55f4eb89-124d-4140-ed04-0c6cf3ac1548"
      },
      "execution_count": 38,
      "outputs": [
        {
          "output_type": "stream",
          "name": "stdout",
          "text": [
            "748\n"
          ]
        },
        {
          "output_type": "execute_result",
          "data": {
            "text/plain": [
              "Index(['Recency (months)', 'Frequency (times)', 'Monetary (c.c. blood)',\n",
              "       'Time (months)', 'whether he/she donated blood in March 2007'],\n",
              "      dtype='object')"
            ]
          },
          "metadata": {},
          "execution_count": 38
        }
      ]
    },
    {
      "cell_type": "markdown",
      "source": [
        "Output kode di atas memberikan informasi sebagai berikut:\n",
        "\n",
        "* Ada 748 baris (records atau jumlah pengamatan) dalam dataset.\n",
        "* Terdapat 5 kolom yaitu: 'Recency', 'Frequency', 'Monetary', 'Time', 'Class'"
      ],
      "metadata": {
        "id": "Z-W9V_2wjmY-"
      }
    },
    {
      "cell_type": "markdown",
      "source": [
        "## Data Exploration"
      ],
      "metadata": {
        "id": "7tgstrhrj9jf"
      }
    },
    {
      "cell_type": "markdown",
      "source": [
        "### Deskripsi Variabel"
      ],
      "metadata": {
        "id": "3yNqSCoCfbdv"
      }
    },
    {
      "cell_type": "markdown",
      "source": [
        "Berdasarkan informasi dari [Kaggle](https://www.kaggle.com/datasets/whenamancodes/blood-transfusion-dataset), variabel-variabel pada Blood Transfusion Dataset adalah sebagai berikut:\n",
        "\n",
        "- Recency: bulan sejak transfusi darah terakhir\n",
        "- Frequency: banyak transfusi darah\n",
        "- Monetary: total banyak darah yang didonorkan\n",
        "- Time: bulan sejak transfusi darah pertama\n",
        "- Class: apakah pendonor darah (1) pada maret 2007 atau tidak (0)"
      ],
      "metadata": {
        "id": "LP9GXBV0k3Sx"
      }
    },
    {
      "cell_type": "markdown",
      "source": [
        "Setelah memahami deskripsi variabel pada data, langkah selanjutnya adalah mengecek informasi pada dataset dengan fungsi info() berikut."
      ],
      "metadata": {
        "id": "F6mk__d4nCvd"
      }
    },
    {
      "cell_type": "code",
      "source": [
        "blood.info()"
      ],
      "metadata": {
        "colab": {
          "base_uri": "https://localhost:8080/"
        },
        "id": "tmJQBuYInK89",
        "outputId": "f3a468b2-44d4-4602-b91a-87ab4f961e1e"
      },
      "execution_count": 39,
      "outputs": [
        {
          "output_type": "stream",
          "name": "stdout",
          "text": [
            "<class 'pandas.core.frame.DataFrame'>\n",
            "RangeIndex: 748 entries, 0 to 747\n",
            "Data columns (total 5 columns):\n",
            " #   Column                                      Non-Null Count  Dtype\n",
            "---  ------                                      --------------  -----\n",
            " 0   Recency (months)                            748 non-null    int64\n",
            " 1   Frequency (times)                           748 non-null    int64\n",
            " 2   Monetary (c.c. blood)                       748 non-null    int64\n",
            " 3   Time (months)                               748 non-null    int64\n",
            " 4   whether he/she donated blood in March 2007  748 non-null    int64\n",
            "dtypes: int64(5)\n",
            "memory usage: 29.3 KB\n"
          ]
        }
      ]
    },
    {
      "cell_type": "markdown",
      "source": [
        "Dari output terlihat bahwa:\n",
        "- Semua kolom merupakan tipe numerik karena tipe datanya int64"
      ],
      "metadata": {
        "id": "_HROQTZOnRy1"
      }
    },
    {
      "cell_type": "markdown",
      "source": [
        "Uraian di atas menunjukkan bahwa setiap kolom telah memiliki tipe data yang sesuai untuk kolom numerik. Selanjutnya, Anda perlu mengecek deskripsi statistik data dengan fitur describe()."
      ],
      "metadata": {
        "id": "B1BvFXnarP0G"
      }
    },
    {
      "cell_type": "code",
      "source": [
        "blood.rename(columns={'whether he/she donated blood in March 2007':'class'}, inplace=True)"
      ],
      "metadata": {
        "id": "esNbMEtdsp2H"
      },
      "execution_count": 40,
      "outputs": []
    },
    {
      "cell_type": "code",
      "source": [
        "blood.describe()"
      ],
      "metadata": {
        "colab": {
          "base_uri": "https://localhost:8080/",
          "height": 300
        },
        "id": "AxDk1EY2rRPk",
        "outputId": "0c8a40f0-165d-4de8-b9a2-e690179652bf"
      },
      "execution_count": 41,
      "outputs": [
        {
          "output_type": "execute_result",
          "data": {
            "text/plain": [
              "       Recency (months)  Frequency (times)  Monetary (c.c. blood)  \\\n",
              "count        748.000000         748.000000             748.000000   \n",
              "mean           9.506684           5.514706            1378.676471   \n",
              "std            8.095396           5.839307            1459.826781   \n",
              "min            0.000000           1.000000             250.000000   \n",
              "25%            2.750000           2.000000             500.000000   \n",
              "50%            7.000000           4.000000            1000.000000   \n",
              "75%           14.000000           7.000000            1750.000000   \n",
              "max           74.000000          50.000000           12500.000000   \n",
              "\n",
              "       Time (months)       class  \n",
              "count     748.000000  748.000000  \n",
              "mean       34.282086    0.237968  \n",
              "std        24.376714    0.426124  \n",
              "min         2.000000    0.000000  \n",
              "25%        16.000000    0.000000  \n",
              "50%        28.000000    0.000000  \n",
              "75%        50.000000    0.000000  \n",
              "max        98.000000    1.000000  "
            ],
            "text/html": [
              "\n",
              "  <div id=\"df-235fffcd-7e5e-42b9-ac86-d3ff1504898d\">\n",
              "    <div class=\"colab-df-container\">\n",
              "      <div>\n",
              "<style scoped>\n",
              "    .dataframe tbody tr th:only-of-type {\n",
              "        vertical-align: middle;\n",
              "    }\n",
              "\n",
              "    .dataframe tbody tr th {\n",
              "        vertical-align: top;\n",
              "    }\n",
              "\n",
              "    .dataframe thead th {\n",
              "        text-align: right;\n",
              "    }\n",
              "</style>\n",
              "<table border=\"1\" class=\"dataframe\">\n",
              "  <thead>\n",
              "    <tr style=\"text-align: right;\">\n",
              "      <th></th>\n",
              "      <th>Recency (months)</th>\n",
              "      <th>Frequency (times)</th>\n",
              "      <th>Monetary (c.c. blood)</th>\n",
              "      <th>Time (months)</th>\n",
              "      <th>class</th>\n",
              "    </tr>\n",
              "  </thead>\n",
              "  <tbody>\n",
              "    <tr>\n",
              "      <th>count</th>\n",
              "      <td>748.000000</td>\n",
              "      <td>748.000000</td>\n",
              "      <td>748.000000</td>\n",
              "      <td>748.000000</td>\n",
              "      <td>748.000000</td>\n",
              "    </tr>\n",
              "    <tr>\n",
              "      <th>mean</th>\n",
              "      <td>9.506684</td>\n",
              "      <td>5.514706</td>\n",
              "      <td>1378.676471</td>\n",
              "      <td>34.282086</td>\n",
              "      <td>0.237968</td>\n",
              "    </tr>\n",
              "    <tr>\n",
              "      <th>std</th>\n",
              "      <td>8.095396</td>\n",
              "      <td>5.839307</td>\n",
              "      <td>1459.826781</td>\n",
              "      <td>24.376714</td>\n",
              "      <td>0.426124</td>\n",
              "    </tr>\n",
              "    <tr>\n",
              "      <th>min</th>\n",
              "      <td>0.000000</td>\n",
              "      <td>1.000000</td>\n",
              "      <td>250.000000</td>\n",
              "      <td>2.000000</td>\n",
              "      <td>0.000000</td>\n",
              "    </tr>\n",
              "    <tr>\n",
              "      <th>25%</th>\n",
              "      <td>2.750000</td>\n",
              "      <td>2.000000</td>\n",
              "      <td>500.000000</td>\n",
              "      <td>16.000000</td>\n",
              "      <td>0.000000</td>\n",
              "    </tr>\n",
              "    <tr>\n",
              "      <th>50%</th>\n",
              "      <td>7.000000</td>\n",
              "      <td>4.000000</td>\n",
              "      <td>1000.000000</td>\n",
              "      <td>28.000000</td>\n",
              "      <td>0.000000</td>\n",
              "    </tr>\n",
              "    <tr>\n",
              "      <th>75%</th>\n",
              "      <td>14.000000</td>\n",
              "      <td>7.000000</td>\n",
              "      <td>1750.000000</td>\n",
              "      <td>50.000000</td>\n",
              "      <td>0.000000</td>\n",
              "    </tr>\n",
              "    <tr>\n",
              "      <th>max</th>\n",
              "      <td>74.000000</td>\n",
              "      <td>50.000000</td>\n",
              "      <td>12500.000000</td>\n",
              "      <td>98.000000</td>\n",
              "      <td>1.000000</td>\n",
              "    </tr>\n",
              "  </tbody>\n",
              "</table>\n",
              "</div>\n",
              "      <button class=\"colab-df-convert\" onclick=\"convertToInteractive('df-235fffcd-7e5e-42b9-ac86-d3ff1504898d')\"\n",
              "              title=\"Convert this dataframe to an interactive table.\"\n",
              "              style=\"display:none;\">\n",
              "        \n",
              "  <svg xmlns=\"http://www.w3.org/2000/svg\" height=\"24px\"viewBox=\"0 0 24 24\"\n",
              "       width=\"24px\">\n",
              "    <path d=\"M0 0h24v24H0V0z\" fill=\"none\"/>\n",
              "    <path d=\"M18.56 5.44l.94 2.06.94-2.06 2.06-.94-2.06-.94-.94-2.06-.94 2.06-2.06.94zm-11 1L8.5 8.5l.94-2.06 2.06-.94-2.06-.94L8.5 2.5l-.94 2.06-2.06.94zm10 10l.94 2.06.94-2.06 2.06-.94-2.06-.94-.94-2.06-.94 2.06-2.06.94z\"/><path d=\"M17.41 7.96l-1.37-1.37c-.4-.4-.92-.59-1.43-.59-.52 0-1.04.2-1.43.59L10.3 9.45l-7.72 7.72c-.78.78-.78 2.05 0 2.83L4 21.41c.39.39.9.59 1.41.59.51 0 1.02-.2 1.41-.59l7.78-7.78 2.81-2.81c.8-.78.8-2.07 0-2.86zM5.41 20L4 18.59l7.72-7.72 1.47 1.35L5.41 20z\"/>\n",
              "  </svg>\n",
              "      </button>\n",
              "      \n",
              "  <style>\n",
              "    .colab-df-container {\n",
              "      display:flex;\n",
              "      flex-wrap:wrap;\n",
              "      gap: 12px;\n",
              "    }\n",
              "\n",
              "    .colab-df-convert {\n",
              "      background-color: #E8F0FE;\n",
              "      border: none;\n",
              "      border-radius: 50%;\n",
              "      cursor: pointer;\n",
              "      display: none;\n",
              "      fill: #1967D2;\n",
              "      height: 32px;\n",
              "      padding: 0 0 0 0;\n",
              "      width: 32px;\n",
              "    }\n",
              "\n",
              "    .colab-df-convert:hover {\n",
              "      background-color: #E2EBFA;\n",
              "      box-shadow: 0px 1px 2px rgba(60, 64, 67, 0.3), 0px 1px 3px 1px rgba(60, 64, 67, 0.15);\n",
              "      fill: #174EA6;\n",
              "    }\n",
              "\n",
              "    [theme=dark] .colab-df-convert {\n",
              "      background-color: #3B4455;\n",
              "      fill: #D2E3FC;\n",
              "    }\n",
              "\n",
              "    [theme=dark] .colab-df-convert:hover {\n",
              "      background-color: #434B5C;\n",
              "      box-shadow: 0px 1px 3px 1px rgba(0, 0, 0, 0.15);\n",
              "      filter: drop-shadow(0px 1px 2px rgba(0, 0, 0, 0.3));\n",
              "      fill: #FFFFFF;\n",
              "    }\n",
              "  </style>\n",
              "\n",
              "      <script>\n",
              "        const buttonEl =\n",
              "          document.querySelector('#df-235fffcd-7e5e-42b9-ac86-d3ff1504898d button.colab-df-convert');\n",
              "        buttonEl.style.display =\n",
              "          google.colab.kernel.accessAllowed ? 'block' : 'none';\n",
              "\n",
              "        async function convertToInteractive(key) {\n",
              "          const element = document.querySelector('#df-235fffcd-7e5e-42b9-ac86-d3ff1504898d');\n",
              "          const dataTable =\n",
              "            await google.colab.kernel.invokeFunction('convertToInteractive',\n",
              "                                                     [key], {});\n",
              "          if (!dataTable) return;\n",
              "\n",
              "          const docLinkHtml = 'Like what you see? Visit the ' +\n",
              "            '<a target=\"_blank\" href=https://colab.research.google.com/notebooks/data_table.ipynb>data table notebook</a>'\n",
              "            + ' to learn more about interactive tables.';\n",
              "          element.innerHTML = '';\n",
              "          dataTable['output_type'] = 'display_data';\n",
              "          await google.colab.output.renderOutput(dataTable, element);\n",
              "          const docLink = document.createElement('div');\n",
              "          docLink.innerHTML = docLinkHtml;\n",
              "          element.appendChild(docLink);\n",
              "        }\n",
              "      </script>\n",
              "    </div>\n",
              "  </div>\n",
              "  "
            ]
          },
          "metadata": {},
          "execution_count": 41
        }
      ]
    },
    {
      "cell_type": "markdown",
      "source": [
        "Fungsi describe() memberikan informasi statistik pada masing-masing kolom, antara lain:"
      ],
      "metadata": {
        "id": "rKdmrxA4rVbu"
      }
    },
    {
      "cell_type": "markdown",
      "source": [
        "- Count  adalah jumlah sampel pada data.\n",
        "- Mean adalah nilai rata-rata.\n",
        "- Std adalah standar deviasi.\n",
        "- Min yaitu nilai minimum setiap kolom. \n",
        "- 25% adalah kuartil pertama. Kuartil adalah nilai yang menandai batas interval dalam empat bagian sebaran yang sama. \n",
        "- 50% adalah kuartil kedua, atau biasa juga disebut median (nilai tengah).\n",
        "- 75% adalah kuartil ketiga.\n",
        "- Max adalah nilai maksimum."
      ],
      "metadata": {
        "id": "3h4FI3OJrW0f"
      }
    },
    {
      "cell_type": "markdown",
      "source": [
        "### Menangani Missing Value"
      ],
      "metadata": {
        "id": "G1IMB7i0fdQv"
      }
    },
    {
      "cell_type": "markdown",
      "source": [
        "Mari kita cek ada berapa missing value pada semua kolom."
      ],
      "metadata": {
        "id": "3RZqqMp9raCn"
      }
    },
    {
      "cell_type": "code",
      "source": [
        "blood.isnull().sum()"
      ],
      "metadata": {
        "colab": {
          "base_uri": "https://localhost:8080/"
        },
        "id": "-VgsEDCbrX3-",
        "outputId": "25dd4319-174d-4753-a7b3-052d88630da3"
      },
      "execution_count": 42,
      "outputs": [
        {
          "output_type": "execute_result",
          "data": {
            "text/plain": [
              "Recency (months)         0\n",
              "Frequency (times)        0\n",
              "Monetary (c.c. blood)    0\n",
              "Time (months)            0\n",
              "class                    0\n",
              "dtype: int64"
            ]
          },
          "metadata": {},
          "execution_count": 42
        }
      ]
    },
    {
      "cell_type": "markdown",
      "source": [
        "Dari output isnull().sum() terlihat bahwa setiap fitur tidak memiliki missing value."
      ],
      "metadata": {
        "id": "5DStYo8greTO"
      }
    },
    {
      "cell_type": "markdown",
      "source": [
        "### Univariate Analysis"
      ],
      "metadata": {
        "id": "BUKjvmjofhwn"
      }
    },
    {
      "cell_type": "markdown",
      "source": [
        "Karena fitur pada dataset berupa fitur numerik semua, maka kita akan melihat histogram masing-masing fiturnya menggunakan code berikut."
      ],
      "metadata": {
        "id": "9LH7z8HRrhFe"
      }
    },
    {
      "cell_type": "code",
      "source": [
        "blood.hist(bins=50, figsize=(20,15))\n",
        "plt.show()"
      ],
      "metadata": {
        "colab": {
          "base_uri": "https://localhost:8080/",
          "height": 882
        },
        "id": "yL0uvgyfri9n",
        "outputId": "31766f3f-1d50-4c70-cfa2-14a24eebb881"
      },
      "execution_count": 43,
      "outputs": [
        {
          "output_type": "display_data",
          "data": {
            "text/plain": [
              "<Figure size 1440x1080 with 6 Axes>"
            ],
            "image/png": "[encoded data removed]"
          },
          "metadata": {
            "needs_background": "light"
          }
        }
      ]
    },
    {
      "cell_type": "markdown",
      "source": [
        "Dari hasil output histogram di atas, diperoleh informasi antara lain:\n",
        "\n",
        "- Pada histogram Frequency dan histogram Monetary miring ke kanan (right-skewed). Hal ini akan berimplikasi pada model."
      ],
      "metadata": {
        "id": "8rxBvfU8rpcu"
      }
    },
    {
      "cell_type": "markdown",
      "source": [
        "### Multivariate Analysis"
      ],
      "metadata": {
        "id": "ekJ7-h8jfqTX"
      }
    },
    {
      "cell_type": "markdown",
      "source": [
        "Untuk mengamati hubungan antara fitur numerik, kita akan menggunakan fungsi pairplot(). Kita juga akan mengobservasi korelasi antara fitur numerik dengan fitur target menggunakan fungsi corr(). Tidak perlu menunggu lama, mari kita langsung analisis datanya."
      ],
      "metadata": {
        "id": "SStGaY8Drwfm"
      }
    },
    {
      "cell_type": "code",
      "source": [
        "# Mengamati hubungan antar fitur numerik dengan fungsi pairplot()\n",
        "sns.set(style=\"ticks\", color_codes=True)\n",
        "sns.pairplot(blood,\n",
        "             kind=\"reg\",\n",
        "             markers=\"+\",\n",
        "             diag_kind='kde',\n",
        "             plot_kws={'line_kws': {'color':'red'},\n",
        "                       'scatter_kws': {'alpha': 0.5}})"
      ],
      "metadata": {
        "colab": {
          "base_uri": "https://localhost:8080/",
          "height": 0
        },
        "id": "sxTJVkz2ryvG",
        "outputId": "ce56a73c-1c87-415b-f3d1-366e74e0d8a0"
      },
      "execution_count": 44,
      "outputs": [
        {
          "output_type": "execute_result",
          "data": {
            "text/plain": [
              "<seaborn.axisgrid.PairGrid at 0x7fdfe0e7f700>"
            ]
          },
          "metadata": {},
          "execution_count": 44
        },
        {
          "output_type": "display_data",
          "data": {
            "text/plain": [
              "<Figure size 900x900 with 30 Axes>"
            ],
            "image/png": "[encoded data removed]"
          },
          "metadata": {}
        }
      ]
    },
    {
      "cell_type": "markdown",
      "source": [
        "Pada pola sebaran data grafik pairplot di atas, terlihat fitur Frequency memiliki korelasi kuat dengan fitur Monetary. Untuk mengevaluasi skor korelasinya, kita akan gunakan fungsi corr() sebagai berikut."
      ],
      "metadata": {
        "id": "FSh7_ZXhs-nQ"
      }
    },
    {
      "cell_type": "code",
      "source": [
        "plt.figure(figsize=(10, 8))\n",
        "correlation_matrix = blood.corr().round(2)\n",
        " \n",
        "# Untuk menge-print nilai di dalam kotak, gunakan parameter anot=True\n",
        "sns.heatmap(data=correlation_matrix, annot=True, cmap='coolwarm', linewidths=0.5, )\n",
        "plt.title(\"Correlation Matrix untuk Fitur Numerik \", size=20)"
      ],
      "metadata": {
        "colab": {
          "base_uri": "https://localhost:8080/",
          "height": 0
        },
        "id": "LKr6b9Nfta5O",
        "outputId": "dd4d3f3f-e044-4314-ad7d-19190ce4e25b"
      },
      "execution_count": 45,
      "outputs": [
        {
          "output_type": "execute_result",
          "data": {
            "text/plain": [
              "Text(0.5, 1.0, 'Correlation Matrix untuk Fitur Numerik ')"
            ]
          },
          "metadata": {},
          "execution_count": 45
        },
        {
          "output_type": "display_data",
          "data": {
            "text/plain": [
              "<Figure size 720x576 with 2 Axes>"
            ],
            "image/png": "[encoded data removed]"
          },
          "metadata": {}
        }
      ]
    },
    {
      "cell_type": "markdown",
      "source": [
        "Koefisien korelasi berkisar antara -1 dan +1. Semakin dekat nilainya ke 1 atau -1, maka korelasinya semakin kuat. Sedangkan, semakin dekat nilainya ke 0 maka korelasinya semakin lemah.\n",
        "\n",
        "Dari grafik korelasi di atas, fitur Frequency memiliki korelasi kuat (1) dengan fitur target Monetary."
      ],
      "metadata": {
        "id": "37_pO_ILtnMV"
      }
    },
    {
      "cell_type": "markdown",
      "source": [
        "## Data Preparation"
      ],
      "metadata": {
        "id": "G0HiEeacfv3g"
      }
    },
    {
      "cell_type": "markdown",
      "source": [
        "### Reduksi Dimensi dengan PCA"
      ],
      "metadata": {
        "id": "ats46yITgfOu"
      }
    },
    {
      "cell_type": "markdown",
      "source": [
        "PCA umumnya digunakan ketika variabel dalam data yang memiliki korelasi yang tinggi. Korelasi tinggi ini menunjukkan data yang berulang atau redundant. Sebelumnya kita perlu cek kembali korelasi antar fitur (selain fitur target) dengan menggunakan pairplot."
      ],
      "metadata": {
        "id": "FxBDJKXdt-P-"
      }
    },
    {
      "cell_type": "code",
      "source": [
        "sns.set(style=\"ticks\", color_codes=True)\n",
        "sns.pairplot(blood[[fitur for fitur in blood.keys() if fitur != \"class\"]],\n",
        "             kind=\"reg\",\n",
        "             markers=\"+\",\n",
        "             diag_kind='kde',\n",
        "             plot_kws={'line_kws': {'color':'red'},\n",
        "                       'scatter_kws': {'alpha': 0.5}})"
      ],
      "metadata": {
        "colab": {
          "base_uri": "https://localhost:8080/",
          "height": 742
        },
        "id": "lcRRjk9suCJ1",
        "outputId": "93a6fd97-019c-4a1d-acd0-e1c58a4900c5"
      },
      "execution_count": 46,
      "outputs": [
        {
          "output_type": "execute_result",
          "data": {
            "text/plain": [
              "<seaborn.axisgrid.PairGrid at 0x7fdfe1910070>"
            ]
          },
          "metadata": {},
          "execution_count": 46
        },
        {
          "output_type": "display_data",
          "data": {
            "text/plain": [
              "<Figure size 720x720 with 20 Axes>"
            ],
            "image/png": "[encoded data removed]"
          },
          "metadata": {}
        }
      ]
    },
    {
      "cell_type": "markdown",
      "source": [
        "Selanjutnya kita akan mereduksi fitur Time, Frequency dan fitur Monetary karena ketiganya berkorelasi cukup kuat yang dapat dilihat pada visualisasi pairplot di atas."
      ],
      "metadata": {
        "id": "bDZdkiNvup2e"
      }
    },
    {
      "cell_type": "code",
      "source": [
        "from sklearn.decomposition import PCA\n",
        "\n",
        "list_calon_fitur_pca = ['Time (months)', 'Frequency (times)', 'Monetary (c.c. blood)']\n",
        "pca = PCA(n_components=len(list_calon_fitur_pca), random_state=123)\n",
        "pca.fit(blood[list_calon_fitur_pca])\n",
        "princ_comp = pca.transform(blood[list_calon_fitur_pca])"
      ],
      "metadata": {
        "id": "b6RqWPqIu9Je"
      },
      "execution_count": 47,
      "outputs": []
    },
    {
      "cell_type": "markdown",
      "source": [
        "Setelah menerapkan class PCA dengan n_components sebanyak fitur yang dikenakan PCA, kita bisa mengetahui proporsi informasi dari ketiga komponen hasil PCA sebagai berikut:"
      ],
      "metadata": {
        "id": "vmK6aLZJvn_W"
      }
    },
    {
      "cell_type": "code",
      "source": [
        "pca.explained_variance_ratio_.round(3)"
      ],
      "metadata": {
        "colab": {
          "base_uri": "https://localhost:8080/"
        },
        "id": "Anl-Igpzvb2O",
        "outputId": "7a3805af-1a04-4cfc-fbfd-6f0cb2f7a96e"
      },
      "execution_count": 48,
      "outputs": [
        {
          "output_type": "execute_result",
          "data": {
            "text/plain": [
              "array([1., 0., 0.])"
            ]
          },
          "metadata": {},
          "execution_count": 48
        }
      ]
    },
    {
      "cell_type": "markdown",
      "source": [
        "Arti dari output di atas adalah, 100% informasi pada ketiga fitur (Time, Frequency dan Monetary) terdapat pada PC (Principal Component) pertama. Sedangkan sisanya sebesar 0% terdapat pada PC kedua dan ketiga\n",
        "\n",
        "Berdasarkan hasil tersebut, kita akan mereduksi fitur dan hanya mempertahankan PC (komponen) pertama saja. PC pertama ini akan menjadi fitur yang menggantikan tiga fitur lainnya (Time, Frequency dan Monetary). Kita beri nama fitur ini PCA_TFM.\n"
      ],
      "metadata": {
        "id": "06v0mVa6v04t"
      }
    },
    {
      "cell_type": "code",
      "source": [
        "pca = PCA(n_components=1, random_state=123)\n",
        "pca.fit(blood[list_calon_fitur_pca])\n",
        "blood['PCA_TFM'] = pca.transform(blood[list_calon_fitur_pca]).flatten()\n",
        "blood.drop(list_calon_fitur_pca, axis=1, inplace=True)\n",
        "display(blood.sample(5))"
      ],
      "metadata": {
        "colab": {
          "base_uri": "https://localhost:8080/",
          "height": 86
        },
        "id": "llfbfwGkwF1O",
        "outputId": "44b3a9f9-5621-4c8e-917d-b6b22a306430"
      },
      "execution_count": 49,
      "outputs": [
        {
          "output_type": "display_data",
          "data": {
            "text/plain": [
              "     Recency (months)  class      PCA_TFM\n",
              "427                14      0  -128.249115\n",
              "79                  2      0  -878.955199\n",
              "692                14      0 -1128.837108\n",
              "362                 4      0  -628.256816\n",
              "259                12      0  1621.496844"
            ],
            "text/html": [
              "\n",
              "  <div id=\"df-44635a01-0e37-4859-a552-1c61e6a47386\">\n",
              "    <div class=\"colab-df-container\">\n",
              "      <div>\n",
              "<style scoped>\n",
              "    .dataframe tbody tr th:only-of-type {\n",
              "        vertical-align: middle;\n",
              "    }\n",
              "\n",
              "    .dataframe tbody tr th {\n",
              "        vertical-align: top;\n",
              "    }\n",
              "\n",
              "    .dataframe thead th {\n",
              "        text-align: right;\n",
              "    }\n",
              "</style>\n",
              "<table border=\"1\" class=\"dataframe\">\n",
              "  <thead>\n",
              "    <tr style=\"text-align: right;\">\n",
              "      <th></th>\n",
              "      <th>Recency (months)</th>\n",
              "      <th>class</th>\n",
              "      <th>PCA_TFM</th>\n",
              "    </tr>\n",
              "  </thead>\n",
              "  <tbody>\n",
              "    <tr>\n",
              "      <th>427</th>\n",
              "      <td>14</td>\n",
              "      <td>0</td>\n",
              "      <td>-128.249115</td>\n",
              "    </tr>\n",
              "    <tr>\n",
              "      <th>79</th>\n",
              "      <td>2</td>\n",
              "      <td>0</td>\n",
              "      <td>-878.955199</td>\n",
              "    </tr>\n",
              "    <tr>\n",
              "      <th>692</th>\n",
              "      <td>14</td>\n",
              "      <td>0</td>\n",
              "      <td>-1128.837108</td>\n",
              "    </tr>\n",
              "    <tr>\n",
              "      <th>362</th>\n",
              "      <td>4</td>\n",
              "      <td>0</td>\n",
              "      <td>-628.256816</td>\n",
              "    </tr>\n",
              "    <tr>\n",
              "      <th>259</th>\n",
              "      <td>12</td>\n",
              "      <td>0</td>\n",
              "      <td>1621.496844</td>\n",
              "    </tr>\n",
              "  </tbody>\n",
              "</table>\n",
              "</div>\n",
              "      <button class=\"colab-df-convert\" onclick=\"convertToInteractive('df-44635a01-0e37-4859-a552-1c61e6a47386')\"\n",
              "              title=\"Convert this dataframe to an interactive table.\"\n",
              "              style=\"display:none;\">\n",
              "        \n",
              "  <svg xmlns=\"http://www.w3.org/2000/svg\" height=\"24px\"viewBox=\"0 0 24 24\"\n",
              "       width=\"24px\">\n",
              "    <path d=\"M0 0h24v24H0V0z\" fill=\"none\"/>\n",
              "    <path d=\"M18.56 5.44l.94 2.06.94-2.06 2.06-.94-2.06-.94-.94-2.06-.94 2.06-2.06.94zm-11 1L8.5 8.5l.94-2.06 2.06-.94-2.06-.94L8.5 2.5l-.94 2.06-2.06.94zm10 10l.94 2.06.94-2.06 2.06-.94-2.06-.94-.94-2.06-.94 2.06-2.06.94z\"/><path d=\"M17.41 7.96l-1.37-1.37c-.4-.4-.92-.59-1.43-.59-.52 0-1.04.2-1.43.59L10.3 9.45l-7.72 7.72c-.78.78-.78 2.05 0 2.83L4 21.41c.39.39.9.59 1.41.59.51 0 1.02-.2 1.41-.59l7.78-7.78 2.81-2.81c.8-.78.8-2.07 0-2.86zM5.41 20L4 18.59l7.72-7.72 1.47 1.35L5.41 20z\"/>\n",
              "  </svg>\n",
              "      </button>\n",
              "      \n",
              "  <style>\n",
              "    .colab-df-container {\n",
              "      display:flex;\n",
              "      flex-wrap:wrap;\n",
              "      gap: 12px;\n",
              "    }\n",
              "\n",
              "    .colab-df-convert {\n",
              "      background-color: #E8F0FE;\n",
              "      border: none;\n",
              "      border-radius: 50%;\n",
              "      cursor: pointer;\n",
              "      display: none;\n",
              "      fill: #1967D2;\n",
              "      height: 32px;\n",
              "      padding: 0 0 0 0;\n",
              "      width: 32px;\n",
              "    }\n",
              "\n",
              "    .colab-df-convert:hover {\n",
              "      background-color: #E2EBFA;\n",
              "      box-shadow: 0px 1px 2px rgba(60, 64, 67, 0.3), 0px 1px 3px 1px rgba(60, 64, 67, 0.15);\n",
              "      fill: #174EA6;\n",
              "    }\n",
              "\n",
              "    [theme=dark] .colab-df-convert {\n",
              "      background-color: #3B4455;\n",
              "      fill: #D2E3FC;\n",
              "    }\n",
              "\n",
              "    [theme=dark] .colab-df-convert:hover {\n",
              "      background-color: #434B5C;\n",
              "      box-shadow: 0px 1px 3px 1px rgba(0, 0, 0, 0.15);\n",
              "      filter: drop-shadow(0px 1px 2px rgba(0, 0, 0, 0.3));\n",
              "      fill: #FFFFFF;\n",
              "    }\n",
              "  </style>\n",
              "\n",
              "      <script>\n",
              "        const buttonEl =\n",
              "          document.querySelector('#df-44635a01-0e37-4859-a552-1c61e6a47386 button.colab-df-convert');\n",
              "        buttonEl.style.display =\n",
              "          google.colab.kernel.accessAllowed ? 'block' : 'none';\n",
              "\n",
              "        async function convertToInteractive(key) {\n",
              "          const element = document.querySelector('#df-44635a01-0e37-4859-a552-1c61e6a47386');\n",
              "          const dataTable =\n",
              "            await google.colab.kernel.invokeFunction('convertToInteractive',\n",
              "                                                     [key], {});\n",
              "          if (!dataTable) return;\n",
              "\n",
              "          const docLinkHtml = 'Like what you see? Visit the ' +\n",
              "            '<a target=\"_blank\" href=https://colab.research.google.com/notebooks/data_table.ipynb>data table notebook</a>'\n",
              "            + ' to learn more about interactive tables.';\n",
              "          element.innerHTML = '';\n",
              "          dataTable['output_type'] = 'display_data';\n",
              "          await google.colab.output.renderOutput(dataTable, element);\n",
              "          const docLink = document.createElement('div');\n",
              "          docLink.innerHTML = docLinkHtml;\n",
              "          element.appendChild(docLink);\n",
              "        }\n",
              "      </script>\n",
              "    </div>\n",
              "  </div>\n",
              "  "
            ]
          },
          "metadata": {}
        },
        {
          "output_type": "stream",
          "name": "stdout",
          "text": [
            "Error: Runtime no longer has a reference to this dataframe, please re-run this cell and try again.\n",
            "Error: Runtime no longer has a reference to this dataframe, please re-run this cell and try again.\n"
          ]
        }
      ]
    },
    {
      "cell_type": "markdown",
      "source": [
        "### Train Test Split"
      ],
      "metadata": {
        "id": "LeZO80rmghpV"
      }
    },
    {
      "cell_type": "markdown",
      "source": [
        "Pada modul ini, kita akan menggunakan proporsi pembagian sebesar 80:20 dengan fungsi train_test_split dari sklearn. "
      ],
      "metadata": {
        "id": "eQ-V1nYLwOvP"
      }
    },
    {
      "cell_type": "code",
      "source": [
        "from sklearn.model_selection import train_test_split\n",
        "\n",
        "blood.dropna(inplace=True)\n",
        "X = blood.drop([\"class\"],axis =1)\n",
        "y = blood[\"class\"]\n",
        "X_train, X_test, y_train, y_test = train_test_split(X, y, test_size = 0.2, random_state = 123)\n",
        "\n",
        "print(f'Total # of sample in whole dataset: {len(X)}')\n",
        "print(f'Total # of sample in train dataset: {len(X_train)}')\n",
        "print(f'Total # of sample in test dataset: {len(X_test)}')"
      ],
      "metadata": {
        "colab": {
          "base_uri": "https://localhost:8080/"
        },
        "id": "ZXhCnONwwQEW",
        "outputId": "28eaae02-29fc-4d54-a5cf-ac4d9d97c064"
      },
      "execution_count": 50,
      "outputs": [
        {
          "output_type": "stream",
          "name": "stdout",
          "text": [
            "Total # of sample in whole dataset: 748\n",
            "Total # of sample in train dataset: 598\n",
            "Total # of sample in test dataset: 150\n"
          ]
        }
      ]
    },
    {
      "cell_type": "markdown",
      "source": [
        "### Standarisasi"
      ],
      "metadata": {
        "id": "tAWqAGk8gllm"
      }
    },
    {
      "cell_type": "markdown",
      "source": [
        "Proses standarisasi bertujuan untuk membuat fitur data menjadi bentuk yang lebih mudah diolah oleh algoritma. Kita akan menggunakan teknik StandarScaler dari library Scikitlearn.\n",
        "\n",
        "StandardScaler melakukan proses standarisasi fitur dengan mengurangkan mean kemudian membaginya dengan standar deviasi untuk menggeser distribusi. StandarScaler menghasilkan distribusi deviasi sama dengan 1 dan mean sama dengan 0."
      ],
      "metadata": {
        "id": "NWlz4-XxwW6P"
      }
    },
    {
      "cell_type": "code",
      "source": [
        "from sklearn.preprocessing import StandardScaler\n",
        " \n",
        "numerical_features = [fitur for fitur in blood.keys() if fitur != 'class']\n",
        "scaler = StandardScaler()\n",
        "scaler.fit(X_train[numerical_features])\n",
        "X_train[numerical_features] = scaler.transform(X_train.loc[:, numerical_features])\n",
        "X_test[numerical_features] = scaler.transform(X_test.loc[:, numerical_features])\n",
        "X_train[numerical_features].head()"
      ],
      "metadata": {
        "colab": {
          "base_uri": "https://localhost:8080/",
          "height": 206
        },
        "id": "UVhJIWuuwgo9",
        "outputId": "a3d0add6-dca6-4fb1-a18c-493b8095ff98"
      },
      "execution_count": 65,
      "outputs": [
        {
          "output_type": "execute_result",
          "data": {
            "text/plain": [
              "     Recency (months)   PCA_TFM\n",
              "239         -0.232541  0.563993\n",
              "269          0.363258 -0.278774\n",
              "151         -0.709179  0.058355\n",
              "245         -0.709179 -0.110095\n",
              "59          -0.828339  0.058227"
            ],
            "text/html": [
              "\n",
              "  <div id=\"df-4696734b-bcfc-4acc-9ad4-a86fa88eef90\">\n",
              "    <div class=\"colab-df-container\">\n",
              "      <div>\n",
              "<style scoped>\n",
              "    .dataframe tbody tr th:only-of-type {\n",
              "        vertical-align: middle;\n",
              "    }\n",
              "\n",
              "    .dataframe tbody tr th {\n",
              "        vertical-align: top;\n",
              "    }\n",
              "\n",
              "    .dataframe thead th {\n",
              "        text-align: right;\n",
              "    }\n",
              "</style>\n",
              "<table border=\"1\" class=\"dataframe\">\n",
              "  <thead>\n",
              "    <tr style=\"text-align: right;\">\n",
              "      <th></th>\n",
              "      <th>Recency (months)</th>\n",
              "      <th>PCA_TFM</th>\n",
              "    </tr>\n",
              "  </thead>\n",
              "  <tbody>\n",
              "    <tr>\n",
              "      <th>239</th>\n",
              "      <td>-0.232541</td>\n",
              "      <td>0.563993</td>\n",
              "    </tr>\n",
              "    <tr>\n",
              "      <th>269</th>\n",
              "      <td>0.363258</td>\n",
              "      <td>-0.278774</td>\n",
              "    </tr>\n",
              "    <tr>\n",
              "      <th>151</th>\n",
              "      <td>-0.709179</td>\n",
              "      <td>0.058355</td>\n",
              "    </tr>\n",
              "    <tr>\n",
              "      <th>245</th>\n",
              "      <td>-0.709179</td>\n",
              "      <td>-0.110095</td>\n",
              "    </tr>\n",
              "    <tr>\n",
              "      <th>59</th>\n",
              "      <td>-0.828339</td>\n",
              "      <td>0.058227</td>\n",
              "    </tr>\n",
              "  </tbody>\n",
              "</table>\n",
              "</div>\n",
              "      <button class=\"colab-df-convert\" onclick=\"convertToInteractive('df-4696734b-bcfc-4acc-9ad4-a86fa88eef90')\"\n",
              "              title=\"Convert this dataframe to an interactive table.\"\n",
              "              style=\"display:none;\">\n",
              "        \n",
              "  <svg xmlns=\"http://www.w3.org/2000/svg\" height=\"24px\"viewBox=\"0 0 24 24\"\n",
              "       width=\"24px\">\n",
              "    <path d=\"M0 0h24v24H0V0z\" fill=\"none\"/>\n",
              "    <path d=\"M18.56 5.44l.94 2.06.94-2.06 2.06-.94-2.06-.94-.94-2.06-.94 2.06-2.06.94zm-11 1L8.5 8.5l.94-2.06 2.06-.94-2.06-.94L8.5 2.5l-.94 2.06-2.06.94zm10 10l.94 2.06.94-2.06 2.06-.94-2.06-.94-.94-2.06-.94 2.06-2.06.94z\"/><path d=\"M17.41 7.96l-1.37-1.37c-.4-.4-.92-.59-1.43-.59-.52 0-1.04.2-1.43.59L10.3 9.45l-7.72 7.72c-.78.78-.78 2.05 0 2.83L4 21.41c.39.39.9.59 1.41.59.51 0 1.02-.2 1.41-.59l7.78-7.78 2.81-2.81c.8-.78.8-2.07 0-2.86zM5.41 20L4 18.59l7.72-7.72 1.47 1.35L5.41 20z\"/>\n",
              "  </svg>\n",
              "      </button>\n",
              "      \n",
              "  <style>\n",
              "    .colab-df-container {\n",
              "      display:flex;\n",
              "      flex-wrap:wrap;\n",
              "      gap: 12px;\n",
              "    }\n",
              "\n",
              "    .colab-df-convert {\n",
              "      background-color: #E8F0FE;\n",
              "      border: none;\n",
              "      border-radius: 50%;\n",
              "      cursor: pointer;\n",
              "      display: none;\n",
              "      fill: #1967D2;\n",
              "      height: 32px;\n",
              "      padding: 0 0 0 0;\n",
              "      width: 32px;\n",
              "    }\n",
              "\n",
              "    .colab-df-convert:hover {\n",
              "      background-color: #E2EBFA;\n",
              "      box-shadow: 0px 1px 2px rgba(60, 64, 67, 0.3), 0px 1px 3px 1px rgba(60, 64, 67, 0.15);\n",
              "      fill: #174EA6;\n",
              "    }\n",
              "\n",
              "    [theme=dark] .colab-df-convert {\n",
              "      background-color: #3B4455;\n",
              "      fill: #D2E3FC;\n",
              "    }\n",
              "\n",
              "    [theme=dark] .colab-df-convert:hover {\n",
              "      background-color: #434B5C;\n",
              "      box-shadow: 0px 1px 3px 1px rgba(0, 0, 0, 0.15);\n",
              "      filter: drop-shadow(0px 1px 2px rgba(0, 0, 0, 0.3));\n",
              "      fill: #FFFFFF;\n",
              "    }\n",
              "  </style>\n",
              "\n",
              "      <script>\n",
              "        const buttonEl =\n",
              "          document.querySelector('#df-4696734b-bcfc-4acc-9ad4-a86fa88eef90 button.colab-df-convert');\n",
              "        buttonEl.style.display =\n",
              "          google.colab.kernel.accessAllowed ? 'block' : 'none';\n",
              "\n",
              "        async function convertToInteractive(key) {\n",
              "          const element = document.querySelector('#df-4696734b-bcfc-4acc-9ad4-a86fa88eef90');\n",
              "          const dataTable =\n",
              "            await google.colab.kernel.invokeFunction('convertToInteractive',\n",
              "                                                     [key], {});\n",
              "          if (!dataTable) return;\n",
              "\n",
              "          const docLinkHtml = 'Like what you see? Visit the ' +\n",
              "            '<a target=\"_blank\" href=https://colab.research.google.com/notebooks/data_table.ipynb>data table notebook</a>'\n",
              "            + ' to learn more about interactive tables.';\n",
              "          element.innerHTML = '';\n",
              "          dataTable['output_type'] = 'display_data';\n",
              "          await google.colab.output.renderOutput(dataTable, element);\n",
              "          const docLink = document.createElement('div');\n",
              "          docLink.innerHTML = docLinkHtml;\n",
              "          element.appendChild(docLink);\n",
              "        }\n",
              "      </script>\n",
              "    </div>\n",
              "  </div>\n",
              "  "
            ]
          },
          "metadata": {},
          "execution_count": 65
        }
      ]
    },
    {
      "cell_type": "markdown",
      "source": [
        "## Model Development"
      ],
      "metadata": {
        "id": "97dVSFRpgAPN"
      }
    },
    {
      "cell_type": "markdown",
      "source": [
        "Pada tahap ini, kita akan menggunakan tiga algoritma untuk kasus klasifikasi ini. Kemudian, kita akan mengevaluasi performa masing-masing algoritma dan menetukan algoritma mana yang memberikan hasil prediksi terbaik. Ketiga algoritma yang akan kita gunakan, antara lain:\n",
        "\n",
        "1. K-Nearest Neighbor\n",
        "\n",
        "    Kelebihan algoritma KNN adalah mudah dipahami dan digunakan sedangkan kekurangannya kika dihadapkan pada jumlah fitur atau dimensi yang besar rawan terjadi bias.\n",
        "\n",
        "2. Random Forest\n",
        "    \n",
        "    Kelebihan algoritma Random Forest adalah menggunakan teknik Bagging yang berusaha melawan *overfitting* dengan berjalan secara paralel. Sedangkan kekurangannya ada pada kompleksitas algoritma Random Forest yang membutuhkan waktu relatif lebih lama dan daya komputasi yang lebih tinggi dibanding algoritma seperti Decision Tree.\n",
        "\n",
        "3. Boosting Algorithm\n",
        "\n",
        "    Kelebihan algoritma Boosting adalah menggunakan teknik Boosting yang berusaha menurunkan bias dengan berjalan secara sekuensial (memperbaiki model di tiap tahapnya). Sedangkan kekurangannya hampir sama dengan algoritma Random Forest dari segi kompleksitas komputasi yang menjadikan waktu pelatihan relatif lebih lama, selain itu noisy dan outliers sangat berpengaruh dalam algoritma ini.\n",
        "\n",
        "Untuk langkah pertama, kita akan siapkan DataFrame baru untuk menampung nilai metrik Akurasi pada setiap model / algoritma. Hal ini berguna untuk melakukan analisa perbandingan antar model."
      ],
      "metadata": {
        "id": "atJ0SN8Bwmtt"
      }
    },
    {
      "cell_type": "code",
      "source": [
        "# Siapkan dataframe untuk analisis model\n",
        "df_models = pd.DataFrame(index=['Train Accuracy', 'Test Accuracy'], \n",
        "                      columns=['KNN', 'RandomForest', 'Boosting'])"
      ],
      "metadata": {
        "id": "6Q8PM6Cdwq3_"
      },
      "execution_count": 52,
      "outputs": []
    },
    {
      "cell_type": "markdown",
      "source": [
        "### Model KNN"
      ],
      "metadata": {
        "id": "DDkJjk9IgRvR"
      }
    },
    {
      "cell_type": "markdown",
      "source": [
        "KNN bekerja dengan membandingkan jarak satu sampel ke sampel pelatihan lain dengan memilih k tetangga terdekat. Pemilihan nilai k sangat penting dan berpengaruh terhadap performa model. Jika kita memilih k yang terlalu rendah, maka akan menghasilkan model yang *overfitting* dan hasil prediksinya memiliki varians tinggi. Jika kita memilih k yang terlalu tinggi, maka model yang dihasilkan akan *underfitting* dan prediksinya memiliki bias yang tinggi [[1]](https://learning.oreilly.com/library/view/machine-learning-with/9781617296574/).\n",
        "\n",
        "Oleh karena itu, kita akan mencoba beberapa nilai k yang berbeda (1 sampai 20) kemudian membandingan mana yang menghasilkan nilai metrik model (pada kasus ini kita pakai akurasi) terbaik. Selain itu, kita akan menggunakan metrik ukuran jarak secara default (Minkowski Distance) pada *library* sklearn."
      ],
      "metadata": {
        "id": "7uOkSf6Fwsmm"
      }
    },
    {
      "cell_type": "code",
      "source": [
        "list_mse = []\n",
        "for k in range(1, 21):\n",
        "  knn = KNeighborsClassifier(n_neighbors=k)\n",
        "  knn.fit(X_train, y_train)\n",
        "  y_prediction = knn.predict(X_test)\n",
        "  test_mse = accuracy_score(y_test, y_prediction)\n",
        "  list_mse.append(test_mse)\n",
        "  print(f\"Nilai Accuracy untuk k = {k} adalah : {test_mse}\")"
      ],
      "metadata": {
        "colab": {
          "base_uri": "https://localhost:8080/"
        },
        "id": "l0JN9kwZwvsO",
        "outputId": "1d4ba9d1-a350-4a9a-9429-71a7f8a92551"
      },
      "execution_count": 53,
      "outputs": [
        {
          "output_type": "stream",
          "name": "stdout",
          "text": [
            "Nilai Accuracy untuk k = 1 adalah : 0.64\n",
            "Nilai Accuracy untuk k = 2 adalah : 0.6666666666666666\n",
            "Nilai Accuracy untuk k = 3 adalah : 0.6533333333333333\n",
            "Nilai Accuracy untuk k = 4 adalah : 0.7333333333333333\n",
            "Nilai Accuracy untuk k = 5 adalah : 0.7\n",
            "Nilai Accuracy untuk k = 6 adalah : 0.76\n",
            "Nilai Accuracy untuk k = 7 adalah : 0.7333333333333333\n",
            "Nilai Accuracy untuk k = 8 adalah : 0.74\n",
            "Nilai Accuracy untuk k = 9 adalah : 0.7466666666666667\n",
            "Nilai Accuracy untuk k = 10 adalah : 0.7333333333333333\n",
            "Nilai Accuracy untuk k = 11 adalah : 0.7333333333333333\n",
            "Nilai Accuracy untuk k = 12 adalah : 0.7266666666666667\n",
            "Nilai Accuracy untuk k = 13 adalah : 0.7266666666666667\n",
            "Nilai Accuracy untuk k = 14 adalah : 0.7333333333333333\n",
            "Nilai Accuracy untuk k = 15 adalah : 0.7266666666666667\n",
            "Nilai Accuracy untuk k = 16 adalah : 0.72\n",
            "Nilai Accuracy untuk k = 17 adalah : 0.72\n",
            "Nilai Accuracy untuk k = 18 adalah : 0.7133333333333334\n",
            "Nilai Accuracy untuk k = 19 adalah : 0.7333333333333333\n",
            "Nilai Accuracy untuk k = 20 adalah : 0.7333333333333333\n"
          ]
        }
      ]
    },
    {
      "cell_type": "markdown",
      "source": [
        "Dan jika kita coba visualisasikan dengan fungsi plot() dalam DataFrame kita peroleh:"
      ],
      "metadata": {
        "id": "yfIEYxB0w04G"
      }
    },
    {
      "cell_type": "code",
      "source": [
        "pd.DataFrame(list_mse, index=range(1, 21)).plot(\n",
        "    xlabel=\"K\",\n",
        "    ylabel=\"Accuracy\",\n",
        "    legend=False,\n",
        "    xticks=range(1,21), \n",
        "    figsize=(12,4),\n",
        "    title='Visualisasi Nilai K terhadap Akurasi')"
      ],
      "metadata": {
        "colab": {
          "base_uri": "https://localhost:8080/",
          "height": 318
        },
        "id": "85OoxVKfw21m",
        "outputId": "d225429a-928d-43aa-e172-66de6d780955"
      },
      "execution_count": 54,
      "outputs": [
        {
          "output_type": "execute_result",
          "data": {
            "text/plain": [
              "<matplotlib.axes._subplots.AxesSubplot at 0x7fdfde317550>"
            ]
          },
          "metadata": {},
          "execution_count": 54
        },
        {
          "output_type": "display_data",
          "data": {
            "text/plain": [
              "<Figure size 864x288 with 1 Axes>"
            ],
            "image/png": "[encoded data removed]"
          },
          "metadata": {}
        }
      ]
    },
    {
      "cell_type": "markdown",
      "source": [
        "Dari hasil output diatas, nilai akurasi terbaik dicapai ketika k = 6 yaitu sebesar 0.76. Oleh karena itu kita akan menggunakan k = 6 dan menyimpan nilai akurasi nya (terhadap data latih, untuk data uji akan dilakukan pada proses evaluasi) kedalam df_models yang telah kita siapkan sebelumnya."
      ],
      "metadata": {
        "id": "EztwcL0PxDPW"
      }
    },
    {
      "cell_type": "code",
      "source": [
        "KNN = KNeighborsClassifier(n_neighbors=6)\n",
        "KNN.fit(X_train, y_train)\n",
        "df_models.loc['Train Accuracy', 'KNN'] = accuracy_score(\n",
        "    y_pred=KNN.predict(X_train),\n",
        "    y_true=y_train)"
      ],
      "metadata": {
        "id": "qTPM-YAfxJyF"
      },
      "execution_count": 55,
      "outputs": []
    },
    {
      "cell_type": "markdown",
      "source": [
        "### Model Random Forest"
      ],
      "metadata": {
        "id": "RoVPFUwEg9t-"
      }
    },
    {
      "cell_type": "markdown",
      "source": [
        "Random forest merupakan algoritma *supervised learning* yang termasuk ke dalam kategori *ensemble* (group) learning. Pada model *ensemble*, setiap model harus membuat prediksi secara independen. Kemudian, prediksi dari setiap model *ensemble* ini digabungkan untuk membuat prediksi akhir. Jenis metode *ensemble* yang digunakan pada Random Forest adalah teknik Bagging. Metode ini bekerja dengan membuat subset dari data train yang independen. Beberapa model awal (base model / weak model) dibuat untuk dijalankan secara simultan / paralel dan independen satu sama lain dengan subset data train yang independen. Hasil prediksi setiap model kemudian dikombinasikan untuk menentukan hasil prediksi final. \n",
        "\n",
        "Parameter-parameter (*hyperparameter*) yang digunakan pada algoritma ini antara lain:\n",
        "\n",
        "- n_estimator: jumlah trees (pohon) di forest.\n",
        "- max_depth: kedalaman atau panjang pohon. Ia merupakan ukuran seberapa banyak pohon dapat membelah (splitting) untuk membagi setiap node ke dalam jumlah pengamatan yang diinginkan.\n",
        "\n",
        "Untuk menentukan nilai *hyperparameter* (n_estimator & max_depth), dilakukan tuning dengan GridSearchCV dan hasilnya sebagai berikut:"
      ],
      "metadata": {
        "id": "IXESbyXpxRpF"
      }
    },
    {
      "cell_type": "code",
      "source": [
        "params_rf = {\n",
        "    \"n_estimators\": np.arange(10, 100, 10), # kelipatan 10 mulai dari 10 sampai 90\n",
        "    \"max_depth\": [4, 8, 16, 32]\n",
        "}\n",
        "\n",
        "# Grid search model\n",
        "gs_model = GridSearchCV(\n",
        "    estimator=RandomForestClassifier(n_jobs=-1, random_state=123),\n",
        "    param_grid=params_rf,\n",
        "    # Ref: https://scikit-learn.org/stable/modules/model_evaluation.html#scoring-parameter\n",
        "    scoring='accuracy', # Accuracy\n",
        "    verbose=3\n",
        ")\n",
        "\n",
        "gs_model.fit(X_train, y_train)"
      ],
      "metadata": {
        "colab": {
          "base_uri": "https://localhost:8080/"
        },
        "id": "uC5EfCFmxUHo",
        "outputId": "933fc0f9-ae86-49be-a37d-9a421e9bfea1"
      },
      "execution_count": 56,
      "outputs": [
        {
          "output_type": "stream",
          "name": "stdout",
          "text": [
            "Fitting 5 folds for each of 36 candidates, totalling 180 fits\n",
            "[CV 1/5] END ......max_depth=4, n_estimators=10;, score=0.808 total time=   1.2s\n",
            "[CV 2/5] END ......max_depth=4, n_estimators=10;, score=0.767 total time=   0.0s\n",
            "[CV 3/5] END ......max_depth=4, n_estimators=10;, score=0.758 total time=   0.1s\n",
            "[CV 4/5] END ......max_depth=4, n_estimators=10;, score=0.773 total time=   0.0s\n",
            "[CV 5/5] END ......max_depth=4, n_estimators=10;, score=0.790 total time=   0.0s\n",
            "[CV 1/5] END ......max_depth=4, n_estimators=20;, score=0.792 total time=   0.1s\n",
            "[CV 2/5] END ......max_depth=4, n_estimators=20;, score=0.783 total time=   0.1s\n",
            "[CV 3/5] END ......max_depth=4, n_estimators=20;, score=0.775 total time=   0.1s\n",
            "[CV 4/5] END ......max_depth=4, n_estimators=20;, score=0.782 total time=   0.1s\n",
            "[CV 5/5] END ......max_depth=4, n_estimators=20;, score=0.773 total time=   0.1s\n",
            "[CV 1/5] END ......max_depth=4, n_estimators=30;, score=0.808 total time=   0.1s\n",
            "[CV 2/5] END ......max_depth=4, n_estimators=30;, score=0.783 total time=   0.1s\n",
            "[CV 3/5] END ......max_depth=4, n_estimators=30;, score=0.767 total time=   0.1s\n",
            "[CV 4/5] END ......max_depth=4, n_estimators=30;, score=0.773 total time=   0.1s\n",
            "[CV 5/5] END ......max_depth=4, n_estimators=30;, score=0.773 total time=   0.1s\n",
            "[CV 1/5] END ......max_depth=4, n_estimators=40;, score=0.792 total time=   0.1s\n",
            "[CV 2/5] END ......max_depth=4, n_estimators=40;, score=0.783 total time=   0.1s\n",
            "[CV 3/5] END ......max_depth=4, n_estimators=40;, score=0.767 total time=   0.1s\n",
            "[CV 4/5] END ......max_depth=4, n_estimators=40;, score=0.782 total time=   0.1s\n",
            "[CV 5/5] END ......max_depth=4, n_estimators=40;, score=0.782 total time=   0.1s\n",
            "[CV 1/5] END ......max_depth=4, n_estimators=50;, score=0.800 total time=   0.1s\n",
            "[CV 2/5] END ......max_depth=4, n_estimators=50;, score=0.783 total time=   0.1s\n",
            "[CV 3/5] END ......max_depth=4, n_estimators=50;, score=0.767 total time=   0.1s\n",
            "[CV 4/5] END ......max_depth=4, n_estimators=50;, score=0.782 total time=   0.1s\n",
            "[CV 5/5] END ......max_depth=4, n_estimators=50;, score=0.773 total time=   0.1s\n",
            "[CV 1/5] END ......max_depth=4, n_estimators=60;, score=0.783 total time=   0.1s\n",
            "[CV 2/5] END ......max_depth=4, n_estimators=60;, score=0.783 total time=   0.1s\n",
            "[CV 3/5] END ......max_depth=4, n_estimators=60;, score=0.767 total time=   0.1s\n",
            "[CV 4/5] END ......max_depth=4, n_estimators=60;, score=0.782 total time=   0.1s\n",
            "[CV 5/5] END ......max_depth=4, n_estimators=60;, score=0.765 total time=   0.1s\n",
            "[CV 1/5] END ......max_depth=4, n_estimators=70;, score=0.783 total time=   0.1s\n",
            "[CV 2/5] END ......max_depth=4, n_estimators=70;, score=0.775 total time=   0.1s\n",
            "[CV 3/5] END ......max_depth=4, n_estimators=70;, score=0.767 total time=   0.2s\n",
            "[CV 4/5] END ......max_depth=4, n_estimators=70;, score=0.782 total time=   0.1s\n",
            "[CV 5/5] END ......max_depth=4, n_estimators=70;, score=0.773 total time=   0.2s\n",
            "[CV 1/5] END ......max_depth=4, n_estimators=80;, score=0.783 total time=   0.2s\n",
            "[CV 2/5] END ......max_depth=4, n_estimators=80;, score=0.775 total time=   0.2s\n",
            "[CV 3/5] END ......max_depth=4, n_estimators=80;, score=0.767 total time=   0.2s\n",
            "[CV 4/5] END ......max_depth=4, n_estimators=80;, score=0.782 total time=   0.2s\n",
            "[CV 5/5] END ......max_depth=4, n_estimators=80;, score=0.773 total time=   0.2s\n",
            "[CV 1/5] END ......max_depth=4, n_estimators=90;, score=0.783 total time=   0.2s\n",
            "[CV 2/5] END ......max_depth=4, n_estimators=90;, score=0.775 total time=   0.2s\n",
            "[CV 3/5] END ......max_depth=4, n_estimators=90;, score=0.767 total time=   0.2s\n",
            "[CV 4/5] END ......max_depth=4, n_estimators=90;, score=0.782 total time=   0.2s\n",
            "[CV 5/5] END ......max_depth=4, n_estimators=90;, score=0.765 total time=   0.3s\n",
            "[CV 1/5] END ......max_depth=8, n_estimators=10;, score=0.800 total time=   0.1s\n",
            "[CV 2/5] END ......max_depth=8, n_estimators=10;, score=0.783 total time=   0.1s\n",
            "[CV 3/5] END ......max_depth=8, n_estimators=10;, score=0.708 total time=   0.1s\n",
            "[CV 4/5] END ......max_depth=8, n_estimators=10;, score=0.756 total time=   0.1s\n",
            "[CV 5/5] END ......max_depth=8, n_estimators=10;, score=0.714 total time=   0.1s\n",
            "[CV 1/5] END ......max_depth=8, n_estimators=20;, score=0.808 total time=   0.1s\n",
            "[CV 2/5] END ......max_depth=8, n_estimators=20;, score=0.792 total time=   0.1s\n",
            "[CV 3/5] END ......max_depth=8, n_estimators=20;, score=0.700 total time=   0.1s\n",
            "[CV 4/5] END ......max_depth=8, n_estimators=20;, score=0.782 total time=   0.1s\n",
            "[CV 5/5] END ......max_depth=8, n_estimators=20;, score=0.672 total time=   0.1s\n",
            "[CV 1/5] END ......max_depth=8, n_estimators=30;, score=0.817 total time=   0.2s\n",
            "[CV 2/5] END ......max_depth=8, n_estimators=30;, score=0.808 total time=   0.2s\n",
            "[CV 3/5] END ......max_depth=8, n_estimators=30;, score=0.725 total time=   0.2s\n",
            "[CV 4/5] END ......max_depth=8, n_estimators=30;, score=0.782 total time=   0.1s\n",
            "[CV 5/5] END ......max_depth=8, n_estimators=30;, score=0.681 total time=   0.2s\n",
            "[CV 1/5] END ......max_depth=8, n_estimators=40;, score=0.800 total time=   0.2s\n",
            "[CV 2/5] END ......max_depth=8, n_estimators=40;, score=0.817 total time=   0.2s\n",
            "[CV 3/5] END ......max_depth=8, n_estimators=40;, score=0.717 total time=   0.2s\n",
            "[CV 4/5] END ......max_depth=8, n_estimators=40;, score=0.782 total time=   0.2s\n",
            "[CV 5/5] END ......max_depth=8, n_estimators=40;, score=0.706 total time=   0.2s\n",
            "[CV 1/5] END ......max_depth=8, n_estimators=50;, score=0.792 total time=   0.2s\n",
            "[CV 2/5] END ......max_depth=8, n_estimators=50;, score=0.817 total time=   0.3s\n",
            "[CV 3/5] END ......max_depth=8, n_estimators=50;, score=0.708 total time=   0.3s\n",
            "[CV 4/5] END ......max_depth=8, n_estimators=50;, score=0.782 total time=   0.3s\n",
            "[CV 5/5] END ......max_depth=8, n_estimators=50;, score=0.723 total time=   0.2s\n",
            "[CV 1/5] END ......max_depth=8, n_estimators=60;, score=0.800 total time=   0.3s\n",
            "[CV 2/5] END ......max_depth=8, n_estimators=60;, score=0.792 total time=   0.2s\n",
            "[CV 3/5] END ......max_depth=8, n_estimators=60;, score=0.708 total time=   0.3s\n",
            "[CV 4/5] END ......max_depth=8, n_estimators=60;, score=0.773 total time=   0.3s\n",
            "[CV 5/5] END ......max_depth=8, n_estimators=60;, score=0.723 total time=   0.3s\n",
            "[CV 1/5] END ......max_depth=8, n_estimators=70;, score=0.808 total time=   0.3s\n",
            "[CV 2/5] END ......max_depth=8, n_estimators=70;, score=0.808 total time=   0.4s\n",
            "[CV 3/5] END ......max_depth=8, n_estimators=70;, score=0.708 total time=   0.3s\n",
            "[CV 4/5] END ......max_depth=8, n_estimators=70;, score=0.773 total time=   0.3s\n",
            "[CV 5/5] END ......max_depth=8, n_estimators=70;, score=0.731 total time=   0.4s\n",
            "[CV 1/5] END ......max_depth=8, n_estimators=80;, score=0.808 total time=   0.4s\n",
            "[CV 2/5] END ......max_depth=8, n_estimators=80;, score=0.808 total time=   0.4s\n",
            "[CV 3/5] END ......max_depth=8, n_estimators=80;, score=0.708 total time=   0.4s\n",
            "[CV 4/5] END ......max_depth=8, n_estimators=80;, score=0.773 total time=   0.4s\n",
            "[CV 5/5] END ......max_depth=8, n_estimators=80;, score=0.731 total time=   0.4s\n",
            "[CV 1/5] END ......max_depth=8, n_estimators=90;, score=0.808 total time=   0.4s\n",
            "[CV 2/5] END ......max_depth=8, n_estimators=90;, score=0.800 total time=   0.5s\n",
            "[CV 3/5] END ......max_depth=8, n_estimators=90;, score=0.708 total time=   0.4s\n",
            "[CV 4/5] END ......max_depth=8, n_estimators=90;, score=0.782 total time=   0.5s\n",
            "[CV 5/5] END ......max_depth=8, n_estimators=90;, score=0.731 total time=   0.4s\n",
            "[CV 1/5] END .....max_depth=16, n_estimators=10;, score=0.783 total time=   0.2s\n",
            "[CV 2/5] END .....max_depth=16, n_estimators=10;, score=0.833 total time=   0.1s\n",
            "[CV 3/5] END .....max_depth=16, n_estimators=10;, score=0.708 total time=   0.1s\n",
            "[CV 4/5] END .....max_depth=16, n_estimators=10;, score=0.748 total time=   0.1s\n",
            "[CV 5/5] END .....max_depth=16, n_estimators=10;, score=0.723 total time=   0.1s\n",
            "[CV 1/5] END .....max_depth=16, n_estimators=20;, score=0.767 total time=   0.1s\n",
            "[CV 2/5] END .....max_depth=16, n_estimators=20;, score=0.825 total time=   0.1s\n",
            "[CV 3/5] END .....max_depth=16, n_estimators=20;, score=0.700 total time=   0.2s\n",
            "[CV 4/5] END .....max_depth=16, n_estimators=20;, score=0.731 total time=   0.1s\n",
            "[CV 5/5] END .....max_depth=16, n_estimators=20;, score=0.672 total time=   0.1s\n",
            "[CV 1/5] END .....max_depth=16, n_estimators=30;, score=0.775 total time=   0.1s\n",
            "[CV 2/5] END .....max_depth=16, n_estimators=30;, score=0.817 total time=   0.3s\n",
            "[CV 3/5] END .....max_depth=16, n_estimators=30;, score=0.708 total time=   0.2s\n",
            "[CV 4/5] END .....max_depth=16, n_estimators=30;, score=0.731 total time=   0.2s\n",
            "[CV 5/5] END .....max_depth=16, n_estimators=30;, score=0.697 total time=   0.2s\n",
            "[CV 1/5] END .....max_depth=16, n_estimators=40;, score=0.775 total time=   0.2s\n",
            "[CV 2/5] END .....max_depth=16, n_estimators=40;, score=0.825 total time=   0.2s\n",
            "[CV 3/5] END .....max_depth=16, n_estimators=40;, score=0.700 total time=   0.3s\n",
            "[CV 4/5] END .....max_depth=16, n_estimators=40;, score=0.739 total time=   0.3s\n",
            "[CV 5/5] END .....max_depth=16, n_estimators=40;, score=0.689 total time=   0.3s\n",
            "[CV 1/5] END .....max_depth=16, n_estimators=50;, score=0.767 total time=   0.3s\n",
            "[CV 2/5] END .....max_depth=16, n_estimators=50;, score=0.833 total time=   0.3s\n",
            "[CV 3/5] END .....max_depth=16, n_estimators=50;, score=0.675 total time=   0.3s\n",
            "[CV 4/5] END .....max_depth=16, n_estimators=50;, score=0.731 total time=   0.3s\n",
            "[CV 5/5] END .....max_depth=16, n_estimators=50;, score=0.697 total time=   0.2s\n",
            "[CV 1/5] END .....max_depth=16, n_estimators=60;, score=0.758 total time=   0.3s\n",
            "[CV 2/5] END .....max_depth=16, n_estimators=60;, score=0.817 total time=   0.3s\n",
            "[CV 3/5] END .....max_depth=16, n_estimators=60;, score=0.667 total time=   0.3s\n",
            "[CV 4/5] END .....max_depth=16, n_estimators=60;, score=0.731 total time=   0.2s\n",
            "[CV 5/5] END .....max_depth=16, n_estimators=60;, score=0.697 total time=   0.3s\n",
            "[CV 1/5] END .....max_depth=16, n_estimators=70;, score=0.758 total time=   0.4s\n",
            "[CV 2/5] END .....max_depth=16, n_estimators=70;, score=0.808 total time=   0.3s\n",
            "[CV 3/5] END .....max_depth=16, n_estimators=70;, score=0.667 total time=   0.4s\n",
            "[CV 4/5] END .....max_depth=16, n_estimators=70;, score=0.739 total time=   0.3s\n",
            "[CV 5/5] END .....max_depth=16, n_estimators=70;, score=0.689 total time=   0.4s\n",
            "[CV 1/5] END .....max_depth=16, n_estimators=80;, score=0.750 total time=   0.5s\n",
            "[CV 2/5] END .....max_depth=16, n_estimators=80;, score=0.808 total time=   0.3s\n",
            "[CV 3/5] END .....max_depth=16, n_estimators=80;, score=0.692 total time=   0.3s\n",
            "[CV 4/5] END .....max_depth=16, n_estimators=80;, score=0.748 total time=   0.4s\n",
            "[CV 5/5] END .....max_depth=16, n_estimators=80;, score=0.689 total time=   0.5s\n",
            "[CV 1/5] END .....max_depth=16, n_estimators=90;, score=0.750 total time=   0.4s\n",
            "[CV 2/5] END .....max_depth=16, n_estimators=90;, score=0.817 total time=   0.5s\n",
            "[CV 3/5] END .....max_depth=16, n_estimators=90;, score=0.667 total time=   0.5s\n",
            "[CV 4/5] END .....max_depth=16, n_estimators=90;, score=0.739 total time=   0.5s\n",
            "[CV 5/5] END .....max_depth=16, n_estimators=90;, score=0.689 total time=   0.2s\n",
            "[CV 1/5] END .....max_depth=32, n_estimators=10;, score=0.775 total time=   0.0s\n",
            "[CV 2/5] END .....max_depth=32, n_estimators=10;, score=0.808 total time=   0.0s\n",
            "[CV 3/5] END .....max_depth=32, n_estimators=10;, score=0.708 total time=   0.0s\n",
            "[CV 4/5] END .....max_depth=32, n_estimators=10;, score=0.756 total time=   0.0s\n",
            "[CV 5/5] END .....max_depth=32, n_estimators=10;, score=0.714 total time=   0.0s\n",
            "[CV 1/5] END .....max_depth=32, n_estimators=20;, score=0.750 total time=   0.1s\n",
            "[CV 2/5] END .....max_depth=32, n_estimators=20;, score=0.825 total time=   0.1s\n",
            "[CV 3/5] END .....max_depth=32, n_estimators=20;, score=0.700 total time=   0.1s\n",
            "[CV 4/5] END .....max_depth=32, n_estimators=20;, score=0.723 total time=   0.1s\n",
            "[CV 5/5] END .....max_depth=32, n_estimators=20;, score=0.681 total time=   0.1s\n",
            "[CV 1/5] END .....max_depth=32, n_estimators=30;, score=0.767 total time=   0.1s\n",
            "[CV 2/5] END .....max_depth=32, n_estimators=30;, score=0.825 total time=   0.1s\n",
            "[CV 3/5] END .....max_depth=32, n_estimators=30;, score=0.708 total time=   0.1s\n",
            "[CV 4/5] END .....max_depth=32, n_estimators=30;, score=0.739 total time=   0.1s\n",
            "[CV 5/5] END .....max_depth=32, n_estimators=30;, score=0.697 total time=   0.1s\n",
            "[CV 1/5] END .....max_depth=32, n_estimators=40;, score=0.758 total time=   0.1s\n",
            "[CV 2/5] END .....max_depth=32, n_estimators=40;, score=0.833 total time=   0.1s\n",
            "[CV 3/5] END .....max_depth=32, n_estimators=40;, score=0.700 total time=   0.1s\n",
            "[CV 4/5] END .....max_depth=32, n_estimators=40;, score=0.731 total time=   0.1s\n",
            "[CV 5/5] END .....max_depth=32, n_estimators=40;, score=0.697 total time=   0.1s\n",
            "[CV 1/5] END .....max_depth=32, n_estimators=50;, score=0.758 total time=   0.1s\n",
            "[CV 2/5] END .....max_depth=32, n_estimators=50;, score=0.833 total time=   0.1s\n",
            "[CV 3/5] END .....max_depth=32, n_estimators=50;, score=0.675 total time=   0.1s\n",
            "[CV 4/5] END .....max_depth=32, n_estimators=50;, score=0.739 total time=   0.1s\n",
            "[CV 5/5] END .....max_depth=32, n_estimators=50;, score=0.697 total time=   0.1s\n",
            "[CV 1/5] END .....max_depth=32, n_estimators=60;, score=0.758 total time=   0.1s\n",
            "[CV 2/5] END .....max_depth=32, n_estimators=60;, score=0.833 total time=   0.1s\n",
            "[CV 3/5] END .....max_depth=32, n_estimators=60;, score=0.667 total time=   0.1s\n",
            "[CV 4/5] END .....max_depth=32, n_estimators=60;, score=0.739 total time=   0.1s\n",
            "[CV 5/5] END .....max_depth=32, n_estimators=60;, score=0.697 total time=   0.1s\n",
            "[CV 1/5] END .....max_depth=32, n_estimators=70;, score=0.758 total time=   0.4s\n",
            "[CV 2/5] END .....max_depth=32, n_estimators=70;, score=0.817 total time=   0.2s\n",
            "[CV 3/5] END .....max_depth=32, n_estimators=70;, score=0.667 total time=   0.2s\n",
            "[CV 4/5] END .....max_depth=32, n_estimators=70;, score=0.748 total time=   0.2s\n",
            "[CV 5/5] END .....max_depth=32, n_estimators=70;, score=0.689 total time=   0.2s\n",
            "[CV 1/5] END .....max_depth=32, n_estimators=80;, score=0.758 total time=   0.2s\n",
            "[CV 2/5] END .....max_depth=32, n_estimators=80;, score=0.817 total time=   0.2s\n",
            "[CV 3/5] END .....max_depth=32, n_estimators=80;, score=0.692 total time=   0.2s\n",
            "[CV 4/5] END .....max_depth=32, n_estimators=80;, score=0.756 total time=   0.2s\n",
            "[CV 5/5] END .....max_depth=32, n_estimators=80;, score=0.697 total time=   0.2s\n",
            "[CV 1/5] END .....max_depth=32, n_estimators=90;, score=0.750 total time=   0.2s\n",
            "[CV 2/5] END .....max_depth=32, n_estimators=90;, score=0.817 total time=   0.2s\n",
            "[CV 3/5] END .....max_depth=32, n_estimators=90;, score=0.667 total time=   0.2s\n",
            "[CV 4/5] END .....max_depth=32, n_estimators=90;, score=0.748 total time=   0.2s\n",
            "[CV 5/5] END .....max_depth=32, n_estimators=90;, score=0.697 total time=   0.2s\n"
          ]
        },
        {
          "output_type": "execute_result",
          "data": {
            "text/plain": [
              "GridSearchCV(estimator=RandomForestClassifier(n_jobs=-1, random_state=123),\n",
              "             param_grid={'max_depth': [4, 8, 16, 32],\n",
              "                         'n_estimators': array([10, 20, 30, 40, 50, 60, 70, 80, 90])},\n",
              "             scoring='accuracy', verbose=3)"
            ]
          },
          "metadata": {},
          "execution_count": 56
        }
      ]
    },
    {
      "cell_type": "markdown",
      "source": [
        "Mengecek hasil tuning hyperparameter dan nilai metrik Akurasi."
      ],
      "metadata": {
        "id": "fo4QcfgCxnlt"
      }
    },
    {
      "cell_type": "code",
      "source": [
        "print(\"Hasil tuning hyperparameter\", gs_model.best_params_)\n",
        "\n",
        "print(\"Nilai accuracy model GridSearchCV_RF dengan data latih\", accuracy_score(\n",
        "    y_pred=gs_model.predict(X_train),\n",
        "    y_true=y_train))\n",
        "print(\"Nilai accuracy model GridSearchCV_RF dengan data uji\", accuracy_score(\n",
        "    y_pred=gs_model.predict(X_test),\n",
        "    y_true=y_test))"
      ],
      "metadata": {
        "colab": {
          "base_uri": "https://localhost:8080/"
        },
        "id": "rJeOdSuyxp3F",
        "outputId": "d2325134-77ab-47f2-9cac-d869467ff3cd"
      },
      "execution_count": 57,
      "outputs": [
        {
          "output_type": "stream",
          "name": "stdout",
          "text": [
            "Hasil tuning hyperparameter {'max_depth': 4, 'n_estimators': 40}\n",
            "Nilai accuracy model GridSearchCV_RF dengan data latih 0.7976588628762542\n",
            "Nilai accuracy model GridSearchCV_RF dengan data uji 0.7466666666666667\n"
          ]
        }
      ]
    },
    {
      "cell_type": "markdown",
      "source": [
        "Dari hasil output di atas diperoleh nilai Akurasi terbaik dalam jangkauan parameter params_rf yaitu 0.79766 (dengan data train) dan 0.74667 (dengan data test) dengan n_estimators: 40 dan max_depth: 4. Selanjutnya kita akan menggunakan pengaturan parameter tersebut dan menyimpan nilai Akurasi nya kedalam df_models yang telah kita siapkan sebelumnya."
      ],
      "metadata": {
        "id": "_KNXzvhOxtcN"
      }
    },
    {
      "cell_type": "code",
      "source": [
        "RF = RandomForestClassifier(n_estimators=40, max_depth=4)\n",
        "RF.fit(X_train, y_train)\n",
        "\n",
        "df_models.loc['Train Accuracy', 'RandomForest'] = accuracy_score(\n",
        "    y_pred=RF.predict(X_train),\n",
        "    y_true=y_train)"
      ],
      "metadata": {
        "id": "pzx-dKahyNe_"
      },
      "execution_count": 58,
      "outputs": []
    },
    {
      "cell_type": "markdown",
      "source": [
        "### Model Boosting Algorithm"
      ],
      "metadata": {
        "id": "11PmXnZFhATG"
      }
    },
    {
      "cell_type": "markdown",
      "source": [
        "Jika sebelumnya kita menggunakan algoritma *bagging* (Random Forest). Selanjutnya kita akan menggunakan metode lain dalam model *ensemble* yaitu teknik *Boosting*. Algoritma *Boosting* bekerja dengan membangun model dari data train. Kemudian membuat model kedua yang bertugas memperbaiki kesalahan dari model pertama. Model ditambahkan sampai data latih terprediksi dengan baik atau telah mencapai jumlah maksimum model untuk ditambahkan. Teknik ini bekerja secara sekuensial.\n",
        "\n",
        "Pada kasus ini kita akan menggunakan metode *Adaptive Boosting*. Untuk implementasinya kita menggunakan AdaBoostClassifier dari library sklearn dengan base_estimator defaultnya yaitu DecisionTreeClassifier hampir sama dengan RandomForestClassifier bedanya menggunakan metode teknik *Boosting*.\n",
        "\n",
        "Parameter-parameter (hyperparameter) yang digunakan pada algoritma ini antara lain:\n",
        "\n",
        "- n_estimator: jumlah *estimator* dan ketika mencapai nilai jumlah tersebut algoritma Boosting akan dihentikan.\n",
        "- learning_rate: bobot yang diterapkan pada setiap *classifier* di masing-masing iterasi Boosting.\n",
        "- random_state: digunakan untuk mengontrol *random number* generator yang digunakan.\n",
        "\n",
        "Untuk menentukan nilai *hyperparameter* (n_estimator & learning_rate) di atas, kita akan melakukan *tuning* dengan GridSearchCV."
      ],
      "metadata": {
        "id": "9PtbuKfayX4W"
      }
    },
    {
      "cell_type": "code",
      "source": [
        "params_ab = {\n",
        "    \"n_estimators\": np.arange(10, 100, 10), # kelipatan 10 mulai dari 10 sampai 90\n",
        "    \"learning_rate\": [0.001, 0.01, 0.1, 0.2]\n",
        "}\n",
        "\n",
        "# Grid search model\n",
        "gs_model_ab = GridSearchCV(\n",
        "    estimator=AdaBoostClassifier(random_state=123),\n",
        "    param_grid=params_ab,\n",
        "    # Ref: https://scikit-learn.org/stable/modules/model_evaluation.html#scoring-parameter\n",
        "    scoring='accuracy', # Negatif dari nilai MSE\n",
        "    verbose=3\n",
        ")\n",
        "\n",
        "gs_model_ab.fit(X_train, y_train)"
      ],
      "metadata": {
        "colab": {
          "base_uri": "https://localhost:8080/"
        },
        "id": "51qXGVg4yaxP",
        "outputId": "445537c1-9a75-44ff-95c3-a97f0182101f"
      },
      "execution_count": 59,
      "outputs": [
        {
          "output_type": "stream",
          "name": "stdout",
          "text": [
            "Fitting 5 folds for each of 36 candidates, totalling 180 fits\n",
            "[CV 1/5] END learning_rate=0.001, n_estimators=10;, score=0.767 total time=   0.0s\n",
            "[CV 2/5] END learning_rate=0.001, n_estimators=10;, score=0.767 total time=   0.0s\n",
            "[CV 3/5] END learning_rate=0.001, n_estimators=10;, score=0.767 total time=   0.0s\n",
            "[CV 4/5] END learning_rate=0.001, n_estimators=10;, score=0.773 total time=   0.0s\n",
            "[CV 5/5] END learning_rate=0.001, n_estimators=10;, score=0.773 total time=   0.0s\n",
            "[CV 1/5] END learning_rate=0.001, n_estimators=20;, score=0.767 total time=   0.0s\n",
            "[CV 2/5] END learning_rate=0.001, n_estimators=20;, score=0.767 total time=   0.0s\n",
            "[CV 3/5] END learning_rate=0.001, n_estimators=20;, score=0.767 total time=   0.0s\n",
            "[CV 4/5] END learning_rate=0.001, n_estimators=20;, score=0.773 total time=   0.0s\n",
            "[CV 5/5] END learning_rate=0.001, n_estimators=20;, score=0.773 total time=   0.1s\n",
            "[CV 1/5] END learning_rate=0.001, n_estimators=30;, score=0.767 total time=   0.1s\n",
            "[CV 2/5] END learning_rate=0.001, n_estimators=30;, score=0.767 total time=   0.1s\n",
            "[CV 3/5] END learning_rate=0.001, n_estimators=30;, score=0.767 total time=   0.1s\n",
            "[CV 4/5] END learning_rate=0.001, n_estimators=30;, score=0.773 total time=   0.1s\n",
            "[CV 5/5] END learning_rate=0.001, n_estimators=30;, score=0.773 total time=   0.1s\n",
            "[CV 1/5] END learning_rate=0.001, n_estimators=40;, score=0.767 total time=   0.1s\n",
            "[CV 2/5] END learning_rate=0.001, n_estimators=40;, score=0.767 total time=   0.1s\n",
            "[CV 3/5] END learning_rate=0.001, n_estimators=40;, score=0.767 total time=   0.1s\n",
            "[CV 4/5] END learning_rate=0.001, n_estimators=40;, score=0.773 total time=   0.1s\n",
            "[CV 5/5] END learning_rate=0.001, n_estimators=40;, score=0.773 total time=   0.1s\n",
            "[CV 1/5] END learning_rate=0.001, n_estimators=50;, score=0.767 total time=   0.1s\n",
            "[CV 2/5] END learning_rate=0.001, n_estimators=50;, score=0.767 total time=   0.1s\n",
            "[CV 3/5] END learning_rate=0.001, n_estimators=50;, score=0.767 total time=   0.1s\n",
            "[CV 4/5] END learning_rate=0.001, n_estimators=50;, score=0.773 total time=   0.1s\n",
            "[CV 5/5] END learning_rate=0.001, n_estimators=50;, score=0.773 total time=   0.1s\n",
            "[CV 1/5] END learning_rate=0.001, n_estimators=60;, score=0.767 total time=   0.1s\n",
            "[CV 2/5] END learning_rate=0.001, n_estimators=60;, score=0.767 total time=   0.1s\n",
            "[CV 3/5] END learning_rate=0.001, n_estimators=60;, score=0.767 total time=   0.1s\n",
            "[CV 4/5] END learning_rate=0.001, n_estimators=60;, score=0.773 total time=   0.1s\n",
            "[CV 5/5] END learning_rate=0.001, n_estimators=60;, score=0.773 total time=   0.1s\n",
            "[CV 1/5] END learning_rate=0.001, n_estimators=70;, score=0.767 total time=   0.1s\n",
            "[CV 2/5] END learning_rate=0.001, n_estimators=70;, score=0.767 total time=   0.1s\n",
            "[CV 3/5] END learning_rate=0.001, n_estimators=70;, score=0.767 total time=   0.1s\n",
            "[CV 4/5] END learning_rate=0.001, n_estimators=70;, score=0.773 total time=   0.1s\n",
            "[CV 5/5] END learning_rate=0.001, n_estimators=70;, score=0.773 total time=   0.1s\n",
            "[CV 1/5] END learning_rate=0.001, n_estimators=80;, score=0.767 total time=   0.1s\n",
            "[CV 2/5] END learning_rate=0.001, n_estimators=80;, score=0.767 total time=   0.2s\n",
            "[CV 3/5] END learning_rate=0.001, n_estimators=80;, score=0.767 total time=   0.1s\n",
            "[CV 4/5] END learning_rate=0.001, n_estimators=80;, score=0.773 total time=   0.1s\n",
            "[CV 5/5] END learning_rate=0.001, n_estimators=80;, score=0.773 total time=   0.2s\n",
            "[CV 1/5] END learning_rate=0.001, n_estimators=90;, score=0.767 total time=   0.2s\n",
            "[CV 2/5] END learning_rate=0.001, n_estimators=90;, score=0.767 total time=   0.2s\n",
            "[CV 3/5] END learning_rate=0.001, n_estimators=90;, score=0.767 total time=   0.2s\n",
            "[CV 4/5] END learning_rate=0.001, n_estimators=90;, score=0.773 total time=   0.2s\n",
            "[CV 5/5] END learning_rate=0.001, n_estimators=90;, score=0.773 total time=   0.2s\n",
            "[CV 1/5] END learning_rate=0.01, n_estimators=10;, score=0.767 total time=   0.0s\n",
            "[CV 2/5] END learning_rate=0.01, n_estimators=10;, score=0.767 total time=   0.0s\n",
            "[CV 3/5] END learning_rate=0.01, n_estimators=10;, score=0.767 total time=   0.0s\n",
            "[CV 4/5] END learning_rate=0.01, n_estimators=10;, score=0.773 total time=   0.0s\n",
            "[CV 5/5] END learning_rate=0.01, n_estimators=10;, score=0.773 total time=   0.0s\n",
            "[CV 1/5] END learning_rate=0.01, n_estimators=20;, score=0.767 total time=   0.0s\n",
            "[CV 2/5] END learning_rate=0.01, n_estimators=20;, score=0.767 total time=   0.0s\n",
            "[CV 3/5] END learning_rate=0.01, n_estimators=20;, score=0.767 total time=   0.0s\n",
            "[CV 4/5] END learning_rate=0.01, n_estimators=20;, score=0.773 total time=   0.0s\n",
            "[CV 5/5] END learning_rate=0.01, n_estimators=20;, score=0.773 total time=   0.0s\n",
            "[CV 1/5] END learning_rate=0.01, n_estimators=30;, score=0.767 total time=   0.1s\n",
            "[CV 2/5] END learning_rate=0.01, n_estimators=30;, score=0.767 total time=   0.1s\n",
            "[CV 3/5] END learning_rate=0.01, n_estimators=30;, score=0.767 total time=   0.1s\n",
            "[CV 4/5] END learning_rate=0.01, n_estimators=30;, score=0.773 total time=   0.1s\n",
            "[CV 5/5] END learning_rate=0.01, n_estimators=30;, score=0.773 total time=   0.1s\n",
            "[CV 1/5] END learning_rate=0.01, n_estimators=40;, score=0.767 total time=   0.1s\n",
            "[CV 2/5] END learning_rate=0.01, n_estimators=40;, score=0.767 total time=   0.1s\n",
            "[CV 3/5] END learning_rate=0.01, n_estimators=40;, score=0.767 total time=   0.1s\n",
            "[CV 4/5] END learning_rate=0.01, n_estimators=40;, score=0.773 total time=   0.1s\n",
            "[CV 5/5] END learning_rate=0.01, n_estimators=40;, score=0.773 total time=   0.1s\n",
            "[CV 1/5] END learning_rate=0.01, n_estimators=50;, score=0.767 total time=   0.1s\n",
            "[CV 2/5] END learning_rate=0.01, n_estimators=50;, score=0.767 total time=   0.1s\n",
            "[CV 3/5] END learning_rate=0.01, n_estimators=50;, score=0.767 total time=   0.1s\n",
            "[CV 4/5] END learning_rate=0.01, n_estimators=50;, score=0.773 total time=   0.1s\n",
            "[CV 5/5] END learning_rate=0.01, n_estimators=50;, score=0.773 total time=   0.1s\n",
            "[CV 1/5] END learning_rate=0.01, n_estimators=60;, score=0.767 total time=   0.1s\n",
            "[CV 2/5] END learning_rate=0.01, n_estimators=60;, score=0.767 total time=   0.1s\n",
            "[CV 3/5] END learning_rate=0.01, n_estimators=60;, score=0.767 total time=   0.1s\n",
            "[CV 4/5] END learning_rate=0.01, n_estimators=60;, score=0.773 total time=   0.1s\n",
            "[CV 5/5] END learning_rate=0.01, n_estimators=60;, score=0.773 total time=   0.1s\n",
            "[CV 1/5] END learning_rate=0.01, n_estimators=70;, score=0.767 total time=   0.1s\n",
            "[CV 2/5] END learning_rate=0.01, n_estimators=70;, score=0.767 total time=   0.1s\n",
            "[CV 3/5] END learning_rate=0.01, n_estimators=70;, score=0.767 total time=   0.1s\n",
            "[CV 4/5] END learning_rate=0.01, n_estimators=70;, score=0.773 total time=   0.1s\n",
            "[CV 5/5] END learning_rate=0.01, n_estimators=70;, score=0.773 total time=   0.1s\n",
            "[CV 1/5] END learning_rate=0.01, n_estimators=80;, score=0.767 total time=   0.1s\n",
            "[CV 2/5] END learning_rate=0.01, n_estimators=80;, score=0.767 total time=   0.1s\n",
            "[CV 3/5] END learning_rate=0.01, n_estimators=80;, score=0.767 total time=   0.1s\n",
            "[CV 4/5] END learning_rate=0.01, n_estimators=80;, score=0.773 total time=   0.2s\n",
            "[CV 5/5] END learning_rate=0.01, n_estimators=80;, score=0.773 total time=   0.1s\n",
            "[CV 1/5] END learning_rate=0.01, n_estimators=90;, score=0.767 total time=   0.2s\n",
            "[CV 2/5] END learning_rate=0.01, n_estimators=90;, score=0.767 total time=   0.2s\n",
            "[CV 3/5] END learning_rate=0.01, n_estimators=90;, score=0.767 total time=   0.2s\n",
            "[CV 4/5] END learning_rate=0.01, n_estimators=90;, score=0.773 total time=   0.2s\n",
            "[CV 5/5] END learning_rate=0.01, n_estimators=90;, score=0.773 total time=   0.2s\n",
            "[CV 1/5] END learning_rate=0.1, n_estimators=10;, score=0.767 total time=   0.0s\n",
            "[CV 2/5] END learning_rate=0.1, n_estimators=10;, score=0.767 total time=   0.0s\n",
            "[CV 3/5] END learning_rate=0.1, n_estimators=10;, score=0.767 total time=   0.0s\n",
            "[CV 4/5] END learning_rate=0.1, n_estimators=10;, score=0.773 total time=   0.0s\n",
            "[CV 5/5] END learning_rate=0.1, n_estimators=10;, score=0.773 total time=   0.0s\n",
            "[CV 1/5] END learning_rate=0.1, n_estimators=20;, score=0.767 total time=   0.0s\n",
            "[CV 2/5] END learning_rate=0.1, n_estimators=20;, score=0.767 total time=   0.0s\n",
            "[CV 3/5] END learning_rate=0.1, n_estimators=20;, score=0.767 total time=   0.0s\n",
            "[CV 4/5] END learning_rate=0.1, n_estimators=20;, score=0.765 total time=   0.0s\n",
            "[CV 5/5] END learning_rate=0.1, n_estimators=20;, score=0.773 total time=   0.0s\n",
            "[CV 1/5] END learning_rate=0.1, n_estimators=30;, score=0.767 total time=   0.1s\n",
            "[CV 2/5] END learning_rate=0.1, n_estimators=30;, score=0.767 total time=   0.1s\n",
            "[CV 3/5] END learning_rate=0.1, n_estimators=30;, score=0.758 total time=   0.1s\n",
            "[CV 4/5] END learning_rate=0.1, n_estimators=30;, score=0.765 total time=   0.1s\n",
            "[CV 5/5] END learning_rate=0.1, n_estimators=30;, score=0.782 total time=   0.1s\n",
            "[CV 1/5] END learning_rate=0.1, n_estimators=40;, score=0.767 total time=   0.1s\n",
            "[CV 2/5] END learning_rate=0.1, n_estimators=40;, score=0.775 total time=   0.1s\n",
            "[CV 3/5] END learning_rate=0.1, n_estimators=40;, score=0.758 total time=   0.1s\n",
            "[CV 4/5] END learning_rate=0.1, n_estimators=40;, score=0.765 total time=   0.1s\n",
            "[CV 5/5] END learning_rate=0.1, n_estimators=40;, score=0.782 total time=   0.1s\n",
            "[CV 1/5] END learning_rate=0.1, n_estimators=50;, score=0.767 total time=   0.1s\n",
            "[CV 2/5] END learning_rate=0.1, n_estimators=50;, score=0.775 total time=   0.1s\n",
            "[CV 3/5] END learning_rate=0.1, n_estimators=50;, score=0.758 total time=   0.1s\n",
            "[CV 4/5] END learning_rate=0.1, n_estimators=50;, score=0.765 total time=   0.1s\n",
            "[CV 5/5] END learning_rate=0.1, n_estimators=50;, score=0.782 total time=   0.1s\n",
            "[CV 1/5] END learning_rate=0.1, n_estimators=60;, score=0.792 total time=   0.1s\n",
            "[CV 2/5] END learning_rate=0.1, n_estimators=60;, score=0.767 total time=   0.1s\n",
            "[CV 3/5] END learning_rate=0.1, n_estimators=60;, score=0.758 total time=   0.1s\n",
            "[CV 4/5] END learning_rate=0.1, n_estimators=60;, score=0.782 total time=   0.1s\n",
            "[CV 5/5] END learning_rate=0.1, n_estimators=60;, score=0.765 total time=   0.1s\n",
            "[CV 1/5] END learning_rate=0.1, n_estimators=70;, score=0.792 total time=   0.1s\n",
            "[CV 2/5] END learning_rate=0.1, n_estimators=70;, score=0.767 total time=   0.1s\n",
            "[CV 3/5] END learning_rate=0.1, n_estimators=70;, score=0.758 total time=   0.1s\n",
            "[CV 4/5] END learning_rate=0.1, n_estimators=70;, score=0.782 total time=   0.1s\n",
            "[CV 5/5] END learning_rate=0.1, n_estimators=70;, score=0.765 total time=   0.1s\n",
            "[CV 1/5] END learning_rate=0.1, n_estimators=80;, score=0.792 total time=   0.2s\n",
            "[CV 2/5] END learning_rate=0.1, n_estimators=80;, score=0.767 total time=   0.1s\n",
            "[CV 3/5] END learning_rate=0.1, n_estimators=80;, score=0.758 total time=   0.2s\n",
            "[CV 4/5] END learning_rate=0.1, n_estimators=80;, score=0.782 total time=   0.1s\n",
            "[CV 5/5] END learning_rate=0.1, n_estimators=80;, score=0.765 total time=   0.1s\n",
            "[CV 1/5] END learning_rate=0.1, n_estimators=90;, score=0.792 total time=   0.2s\n",
            "[CV 2/5] END learning_rate=0.1, n_estimators=90;, score=0.767 total time=   0.2s\n",
            "[CV 3/5] END learning_rate=0.1, n_estimators=90;, score=0.758 total time=   0.2s\n",
            "[CV 4/5] END learning_rate=0.1, n_estimators=90;, score=0.782 total time=   0.2s\n",
            "[CV 5/5] END learning_rate=0.1, n_estimators=90;, score=0.765 total time=   0.2s\n",
            "[CV 1/5] END learning_rate=0.2, n_estimators=10;, score=0.767 total time=   0.0s\n",
            "[CV 2/5] END learning_rate=0.2, n_estimators=10;, score=0.767 total time=   0.0s\n",
            "[CV 3/5] END learning_rate=0.2, n_estimators=10;, score=0.767 total time=   0.0s\n",
            "[CV 4/5] END learning_rate=0.2, n_estimators=10;, score=0.765 total time=   0.0s\n",
            "[CV 5/5] END learning_rate=0.2, n_estimators=10;, score=0.773 total time=   0.0s\n",
            "[CV 1/5] END learning_rate=0.2, n_estimators=20;, score=0.767 total time=   0.0s\n",
            "[CV 2/5] END learning_rate=0.2, n_estimators=20;, score=0.775 total time=   0.0s\n",
            "[CV 3/5] END learning_rate=0.2, n_estimators=20;, score=0.758 total time=   0.0s\n",
            "[CV 4/5] END learning_rate=0.2, n_estimators=20;, score=0.765 total time=   0.0s\n",
            "[CV 5/5] END learning_rate=0.2, n_estimators=20;, score=0.782 total time=   0.0s\n",
            "[CV 1/5] END learning_rate=0.2, n_estimators=30;, score=0.792 total time=   0.1s\n",
            "[CV 2/5] END learning_rate=0.2, n_estimators=30;, score=0.775 total time=   0.1s\n",
            "[CV 3/5] END learning_rate=0.2, n_estimators=30;, score=0.758 total time=   0.1s\n",
            "[CV 4/5] END learning_rate=0.2, n_estimators=30;, score=0.782 total time=   0.1s\n",
            "[CV 5/5] END learning_rate=0.2, n_estimators=30;, score=0.782 total time=   0.1s\n",
            "[CV 1/5] END learning_rate=0.2, n_estimators=40;, score=0.792 total time=   0.1s\n",
            "[CV 2/5] END learning_rate=0.2, n_estimators=40;, score=0.767 total time=   0.1s\n",
            "[CV 3/5] END learning_rate=0.2, n_estimators=40;, score=0.758 total time=   0.1s\n",
            "[CV 4/5] END learning_rate=0.2, n_estimators=40;, score=0.782 total time=   0.1s\n",
            "[CV 5/5] END learning_rate=0.2, n_estimators=40;, score=0.765 total time=   0.1s\n",
            "[CV 1/5] END learning_rate=0.2, n_estimators=50;, score=0.792 total time=   0.1s\n",
            "[CV 2/5] END learning_rate=0.2, n_estimators=50;, score=0.767 total time=   0.1s\n",
            "[CV 3/5] END learning_rate=0.2, n_estimators=50;, score=0.758 total time=   0.1s\n",
            "[CV 4/5] END learning_rate=0.2, n_estimators=50;, score=0.782 total time=   0.1s\n",
            "[CV 5/5] END learning_rate=0.2, n_estimators=50;, score=0.765 total time=   0.1s\n",
            "[CV 1/5] END learning_rate=0.2, n_estimators=60;, score=0.775 total time=   0.1s\n",
            "[CV 2/5] END learning_rate=0.2, n_estimators=60;, score=0.767 total time=   0.1s\n",
            "[CV 3/5] END learning_rate=0.2, n_estimators=60;, score=0.758 total time=   0.1s\n",
            "[CV 4/5] END learning_rate=0.2, n_estimators=60;, score=0.782 total time=   0.1s\n",
            "[CV 5/5] END learning_rate=0.2, n_estimators=60;, score=0.765 total time=   0.1s\n",
            "[CV 1/5] END learning_rate=0.2, n_estimators=70;, score=0.775 total time=   0.1s\n",
            "[CV 2/5] END learning_rate=0.2, n_estimators=70;, score=0.767 total time=   0.1s\n",
            "[CV 3/5] END learning_rate=0.2, n_estimators=70;, score=0.758 total time=   0.1s\n",
            "[CV 4/5] END learning_rate=0.2, n_estimators=70;, score=0.782 total time=   0.1s\n",
            "[CV 5/5] END learning_rate=0.2, n_estimators=70;, score=0.765 total time=   0.1s\n",
            "[CV 1/5] END learning_rate=0.2, n_estimators=80;, score=0.775 total time=   0.1s\n",
            "[CV 2/5] END learning_rate=0.2, n_estimators=80;, score=0.767 total time=   0.2s\n",
            "[CV 3/5] END learning_rate=0.2, n_estimators=80;, score=0.758 total time=   0.1s\n",
            "[CV 4/5] END learning_rate=0.2, n_estimators=80;, score=0.782 total time=   0.1s\n",
            "[CV 5/5] END learning_rate=0.2, n_estimators=80;, score=0.765 total time=   0.2s\n",
            "[CV 1/5] END learning_rate=0.2, n_estimators=90;, score=0.775 total time=   0.2s\n",
            "[CV 2/5] END learning_rate=0.2, n_estimators=90;, score=0.767 total time=   0.2s\n",
            "[CV 3/5] END learning_rate=0.2, n_estimators=90;, score=0.758 total time=   0.2s\n",
            "[CV 4/5] END learning_rate=0.2, n_estimators=90;, score=0.782 total time=   0.2s\n",
            "[CV 5/5] END learning_rate=0.2, n_estimators=90;, score=0.765 total time=   0.2s\n"
          ]
        },
        {
          "output_type": "execute_result",
          "data": {
            "text/plain": [
              "GridSearchCV(estimator=AdaBoostClassifier(random_state=123),\n",
              "             param_grid={'learning_rate': [0.001, 0.01, 0.1, 0.2],\n",
              "                         'n_estimators': array([10, 20, 30, 40, 50, 60, 70, 80, 90])},\n",
              "             scoring='accuracy', verbose=3)"
            ]
          },
          "metadata": {},
          "execution_count": 59
        }
      ]
    },
    {
      "cell_type": "markdown",
      "source": [
        "Mengecek hasil tuning hyperparameter dan nilai metrik Akurasi."
      ],
      "metadata": {
        "id": "Vp3apuAFyk9F"
      }
    },
    {
      "cell_type": "code",
      "source": [
        "print(\"Hasil tuning hyperparameter\", gs_model_ab.best_params_)\n",
        "\n",
        "# AB = AdaBoosting\n",
        "print(\"Nilai Akurasi model GridCV_AB dengan data latih\", accuracy_score(\n",
        "    y_pred=gs_model_ab.predict(X_train),\n",
        "    y_true=y_train))\n",
        "print(\"Nilai Akurasi model GridSearchCV_AB dengan data uji\", accuracy_score(\n",
        "    y_pred=gs_model_ab.predict(X_test),\n",
        "    y_true=y_test))"
      ],
      "metadata": {
        "colab": {
          "base_uri": "https://localhost:8080/"
        },
        "id": "E91_VpviymcX",
        "outputId": "e219a5ca-d84f-4481-e0b9-22270cae90fc"
      },
      "execution_count": 60,
      "outputs": [
        {
          "output_type": "stream",
          "name": "stdout",
          "text": [
            "Hasil tuning hyperparameter {'learning_rate': 0.2, 'n_estimators': 30}\n",
            "Nilai Akurasi model GridCV_AB dengan data latih 0.7809364548494984\n",
            "Nilai Akurasi model GridSearchCV_AB dengan data uji 0.7466666666666667\n"
          ]
        }
      ]
    },
    {
      "cell_type": "markdown",
      "source": [
        "Dari hasil output di atas diperoleh nilai Akurasi terbaik dalam jangkauan parameter params_ab yaitu 0.78094 (dengan data train) dan 0.74667 (dengan data test) dengan n_estimators: 30 dan learning_rate: 0.2. Selanjutnya kita akan menggunakan pengaturan parameter tersebut dan menyimpan nilai Akurasi nya kedalam df_models yang telah kita siapkan sebelumnya."
      ],
      "metadata": {
        "id": "I184mbpUyqZ_"
      }
    },
    {
      "cell_type": "code",
      "source": [
        "boosting = AdaBoostClassifier(n_estimators=30, learning_rate=0.2)\n",
        "boosting.fit(X_train, y_train)\n",
        "\n",
        "df_models.loc['Train Accuracy', 'Boosting'] = accuracy_score(\n",
        "    y_pred=boosting.predict(X_train),\n",
        "    y_true=y_train)"
      ],
      "metadata": {
        "id": "_0zsrBiDy7h9"
      },
      "execution_count": 61,
      "outputs": []
    },
    {
      "cell_type": "markdown",
      "source": [
        "## Evaluasi Model"
      ],
      "metadata": {
        "id": "JhGoTFWPhDL-"
      }
    },
    {
      "cell_type": "markdown",
      "source": [
        "Dari proses sebelumnya, kita telah membuat tiga model yang berbeda dan juga telah melatihnya. Selanjutnya kita perlu mengevaluasi model-model tersebut menggunakan data uji dan metrik yang digunakan dalam kasus ini yaitu akurasi. Hasil evaluasi kemudian kita simpan ke dalam df_models."
      ],
      "metadata": {
        "id": "-p6W4zMozDhV"
      }
    },
    {
      "cell_type": "code",
      "source": [
        "for name, model in {'KNN': KNN, 'RandomForest': RF, 'Boosting': boosting}.items():\n",
        "  df_models.loc['Test Accuracy', name] = accuracy_score(\n",
        "      y_pred=model.predict(X_test),\n",
        "      y_true=y_test)\n",
        "  \n",
        "# Mengecek evaluasi model\n",
        "display(df_models)"
      ],
      "metadata": {
        "colab": {
          "base_uri": "https://localhost:8080/",
          "height": 329
        },
        "id": "0m1ofZ6XzKt-",
        "outputId": "e873a905-6bd8-4f97-d4c0-b046cfc7e9f3"
      },
      "execution_count": 62,
      "outputs": [
        {
          "output_type": "display_data",
          "data": {
            "text/plain": [
              "                     KNN RandomForest  Boosting\n",
              "Train Accuracy  0.809365     0.785953  0.780936\n",
              "Test Accuracy       0.76         0.74  0.746667"
            ],
            "text/html": [
              "\n",
              "  <div id=\"df-3f7ee737-9951-4db6-9031-6ef91b24ec4c\">\n",
              "    <div class=\"colab-df-container\">\n",
              "      <div>\n",
              "<style scoped>\n",
              "    .dataframe tbody tr th:only-of-type {\n",
              "        vertical-align: middle;\n",
              "    }\n",
              "\n",
              "    .dataframe tbody tr th {\n",
              "        vertical-align: top;\n",
              "    }\n",
              "\n",
              "    .dataframe thead th {\n",
              "        text-align: right;\n",
              "    }\n",
              "</style>\n",
              "<table border=\"1\" class=\"dataframe\">\n",
              "  <thead>\n",
              "    <tr style=\"text-align: right;\">\n",
              "      <th></th>\n",
              "      <th>KNN</th>\n",
              "      <th>RandomForest</th>\n",
              "      <th>Boosting</th>\n",
              "    </tr>\n",
              "  </thead>\n",
              "  <tbody>\n",
              "    <tr>\n",
              "      <th>Train Accuracy</th>\n",
              "      <td>0.809365</td>\n",
              "      <td>0.785953</td>\n",
              "      <td>0.780936</td>\n",
              "    </tr>\n",
              "    <tr>\n",
              "      <th>Test Accuracy</th>\n",
              "      <td>0.76</td>\n",
              "      <td>0.74</td>\n",
              "      <td>0.746667</td>\n",
              "    </tr>\n",
              "  </tbody>\n",
              "</table>\n",
              "</div>\n",
              "      <button class=\"colab-df-convert\" onclick=\"convertToInteractive('df-3f7ee737-9951-4db6-9031-6ef91b24ec4c')\"\n",
              "              title=\"Convert this dataframe to an interactive table.\"\n",
              "              style=\"display:none;\">\n",
              "        \n",
              "  <svg xmlns=\"http://www.w3.org/2000/svg\" height=\"24px\"viewBox=\"0 0 24 24\"\n",
              "       width=\"24px\">\n",
              "    <path d=\"M0 0h24v24H0V0z\" fill=\"none\"/>\n",
              "    <path d=\"M18.56 5.44l.94 2.06.94-2.06 2.06-.94-2.06-.94-.94-2.06-.94 2.06-2.06.94zm-11 1L8.5 8.5l.94-2.06 2.06-.94-2.06-.94L8.5 2.5l-.94 2.06-2.06.94zm10 10l.94 2.06.94-2.06 2.06-.94-2.06-.94-.94-2.06-.94 2.06-2.06.94z\"/><path d=\"M17.41 7.96l-1.37-1.37c-.4-.4-.92-.59-1.43-.59-.52 0-1.04.2-1.43.59L10.3 9.45l-7.72 7.72c-.78.78-.78 2.05 0 2.83L4 21.41c.39.39.9.59 1.41.59.51 0 1.02-.2 1.41-.59l7.78-7.78 2.81-2.81c.8-.78.8-2.07 0-2.86zM5.41 20L4 18.59l7.72-7.72 1.47 1.35L5.41 20z\"/>\n",
              "  </svg>\n",
              "      </button>\n",
              "      \n",
              "  <style>\n",
              "    .colab-df-container {\n",
              "      display:flex;\n",
              "      flex-wrap:wrap;\n",
              "      gap: 12px;\n",
              "    }\n",
              "\n",
              "    .colab-df-convert {\n",
              "      background-color: #E8F0FE;\n",
              "      border: none;\n",
              "      border-radius: 50%;\n",
              "      cursor: pointer;\n",
              "      display: none;\n",
              "      fill: #1967D2;\n",
              "      height: 32px;\n",
              "      padding: 0 0 0 0;\n",
              "      width: 32px;\n",
              "    }\n",
              "\n",
              "    .colab-df-convert:hover {\n",
              "      background-color: #E2EBFA;\n",
              "      box-shadow: 0px 1px 2px rgba(60, 64, 67, 0.3), 0px 1px 3px 1px rgba(60, 64, 67, 0.15);\n",
              "      fill: #174EA6;\n",
              "    }\n",
              "\n",
              "    [theme=dark] .colab-df-convert {\n",
              "      background-color: #3B4455;\n",
              "      fill: #D2E3FC;\n",
              "    }\n",
              "\n",
              "    [theme=dark] .colab-df-convert:hover {\n",
              "      background-color: #434B5C;\n",
              "      box-shadow: 0px 1px 3px 1px rgba(0, 0, 0, 0.15);\n",
              "      filter: drop-shadow(0px 1px 2px rgba(0, 0, 0, 0.3));\n",
              "      fill: #FFFFFF;\n",
              "    }\n",
              "  </style>\n",
              "\n",
              "      <script>\n",
              "        const buttonEl =\n",
              "          document.querySelector('#df-3f7ee737-9951-4db6-9031-6ef91b24ec4c button.colab-df-convert');\n",
              "        buttonEl.style.display =\n",
              "          google.colab.kernel.accessAllowed ? 'block' : 'none';\n",
              "\n",
              "        async function convertToInteractive(key) {\n",
              "          const element = document.querySelector('#df-3f7ee737-9951-4db6-9031-6ef91b24ec4c');\n",
              "          const dataTable =\n",
              "            await google.colab.kernel.invokeFunction('convertToInteractive',\n",
              "                                                     [key], {});\n",
              "          if (!dataTable) return;\n",
              "\n",
              "          const docLinkHtml = 'Like what you see? Visit the ' +\n",
              "            '<a target=\"_blank\" href=https://colab.research.google.com/notebooks/data_table.ipynb>data table notebook</a>'\n",
              "            + ' to learn more about interactive tables.';\n",
              "          element.innerHTML = '';\n",
              "          dataTable['output_type'] = 'display_data';\n",
              "          await google.colab.output.renderOutput(dataTable, element);\n",
              "          const docLink = document.createElement('div');\n",
              "          docLink.innerHTML = docLinkHtml;\n",
              "          element.appendChild(docLink);\n",
              "        }\n",
              "      </script>\n",
              "    </div>\n",
              "  </div>\n",
              "  "
            ]
          },
          "metadata": {}
        }
      ]
    },
    {
      "cell_type": "markdown",
      "source": [
        "Untuk memudahkan, mari kita *plot* hasil evaluasi model dengan *bar chart*."
      ],
      "metadata": {
        "id": "73gPTFCTzNKl"
      }
    },
    {
      "cell_type": "code",
      "source": [
        "fig, ax = plt.subplots()\n",
        "df_models.T.sort_values(by='Test Accuracy', ascending=False).plot(kind='barh', ax=ax, zorder=3)\n",
        "plt.legend(loc=\"upper left\")\n",
        "ax.grid(zorder=0)"
      ],
      "metadata": {
        "colab": {
          "base_uri": "https://localhost:8080/",
          "height": 268
        },
        "id": "JCDB6cMgzPD2",
        "outputId": "e64e7730-7fe5-4bec-ec57-94d346c2564d"
      },
      "execution_count": 63,
      "outputs": [
        {
          "output_type": "display_data",
          "data": {
            "text/plain": [
              "<Figure size 432x288 with 1 Axes>"
            ],
            "image/png": "[encoded data removed]"
          },
          "metadata": {}
        }
      ]
    },
    {
      "cell_type": "markdown",
      "source": [
        "Dari gambar di atas, terlihat bahwa, model KNN memberikan nilai Akurasi (pada data uji) yang paling tinggi. Sebelum memutuskan model terbaik untuk melakukan prediksi \"Class\" (pendonor atau bukan pendonor darah). Mari kita coba uji prediksi menggunakan beberapa sampel acak (10) pada data uji."
      ],
      "metadata": {
        "id": "-2xV6W_CzUrw"
      }
    },
    {
      "cell_type": "code",
      "source": [
        "dict_result = {\n",
        "    'index_sample': [],\n",
        "    'y_true': [],\n",
        "    'prediksi_KNN': [],\n",
        "    'prediksi_RF': [],\n",
        "    'prediksi_Boosting': []\n",
        "}\n",
        "\n",
        "X_sample = X_test.sample(10)\n",
        "dict_result['index_sample'] = X_sample.index.values\n",
        "dict_result['y_true'] = [pd.DataFrame(y_test).loc[idx, 'class'] for idx in dict_result['index_sample']]\n",
        "\n",
        "for name, model in {'KNN': KNN, 'RF': RF, 'Boosting': boosting}.items():\n",
        "  dict_result['prediksi_' + name] = model.predict(X_sample)\n",
        "\n",
        "display(pd.DataFrame(dict_result).set_index('index_sample'))"
      ],
      "metadata": {
        "colab": {
          "base_uri": "https://localhost:8080/",
          "height": 501
        },
        "id": "y8fMjpz5zZEO",
        "outputId": "28b87ca7-37f8-401b-9259-4688a54b7fa9"
      },
      "execution_count": 66,
      "outputs": [
        {
          "output_type": "display_data",
          "data": {
            "text/plain": [
              "              y_true  prediksi_KNN  prediksi_RF  prediksi_Boosting\n",
              "index_sample                                                      \n",
              "414                0             0            0                  0\n",
              "370                1             0            0                  0\n",
              "263                1             0            0                  0\n",
              "379                0             0            0                  0\n",
              "294                0             0            0                  0\n",
              "170                0             0            0                  0\n",
              "511                0             0            0                  0\n",
              "696                0             0            0                  0\n",
              "529                1             1            0                  0\n",
              "250                0             0            0                  0"
            ],
            "text/html": [
              "\n",
              "  <div id=\"df-bd265ae4-46fb-4a65-aff7-d64384ce0e18\">\n",
              "    <div class=\"colab-df-container\">\n",
              "      <div>\n",
              "<style scoped>\n",
              "    .dataframe tbody tr th:only-of-type {\n",
              "        vertical-align: middle;\n",
              "    }\n",
              "\n",
              "    .dataframe tbody tr th {\n",
              "        vertical-align: top;\n",
              "    }\n",
              "\n",
              "    .dataframe thead th {\n",
              "        text-align: right;\n",
              "    }\n",
              "</style>\n",
              "<table border=\"1\" class=\"dataframe\">\n",
              "  <thead>\n",
              "    <tr style=\"text-align: right;\">\n",
              "      <th></th>\n",
              "      <th>y_true</th>\n",
              "      <th>prediksi_KNN</th>\n",
              "      <th>prediksi_RF</th>\n",
              "      <th>prediksi_Boosting</th>\n",
              "    </tr>\n",
              "    <tr>\n",
              "      <th>index_sample</th>\n",
              "      <th></th>\n",
              "      <th></th>\n",
              "      <th></th>\n",
              "      <th></th>\n",
              "    </tr>\n",
              "  </thead>\n",
              "  <tbody>\n",
              "    <tr>\n",
              "      <th>414</th>\n",
              "      <td>0</td>\n",
              "      <td>0</td>\n",
              "      <td>0</td>\n",
              "      <td>0</td>\n",
              "    </tr>\n",
              "    <tr>\n",
              "      <th>370</th>\n",
              "      <td>1</td>\n",
              "      <td>0</td>\n",
              "      <td>0</td>\n",
              "      <td>0</td>\n",
              "    </tr>\n",
              "    <tr>\n",
              "      <th>263</th>\n",
              "      <td>1</td>\n",
              "      <td>0</td>\n",
              "      <td>0</td>\n",
              "      <td>0</td>\n",
              "    </tr>\n",
              "    <tr>\n",
              "      <th>379</th>\n",
              "      <td>0</td>\n",
              "      <td>0</td>\n",
              "      <td>0</td>\n",
              "      <td>0</td>\n",
              "    </tr>\n",
              "    <tr>\n",
              "      <th>294</th>\n",
              "      <td>0</td>\n",
              "      <td>0</td>\n",
              "      <td>0</td>\n",
              "      <td>0</td>\n",
              "    </tr>\n",
              "    <tr>\n",
              "      <th>170</th>\n",
              "      <td>0</td>\n",
              "      <td>0</td>\n",
              "      <td>0</td>\n",
              "      <td>0</td>\n",
              "    </tr>\n",
              "    <tr>\n",
              "      <th>511</th>\n",
              "      <td>0</td>\n",
              "      <td>0</td>\n",
              "      <td>0</td>\n",
              "      <td>0</td>\n",
              "    </tr>\n",
              "    <tr>\n",
              "      <th>696</th>\n",
              "      <td>0</td>\n",
              "      <td>0</td>\n",
              "      <td>0</td>\n",
              "      <td>0</td>\n",
              "    </tr>\n",
              "    <tr>\n",
              "      <th>529</th>\n",
              "      <td>1</td>\n",
              "      <td>1</td>\n",
              "      <td>0</td>\n",
              "      <td>0</td>\n",
              "    </tr>\n",
              "    <tr>\n",
              "      <th>250</th>\n",
              "      <td>0</td>\n",
              "      <td>0</td>\n",
              "      <td>0</td>\n",
              "      <td>0</td>\n",
              "    </tr>\n",
              "  </tbody>\n",
              "</table>\n",
              "</div>\n",
              "      <button class=\"colab-df-convert\" onclick=\"convertToInteractive('df-bd265ae4-46fb-4a65-aff7-d64384ce0e18')\"\n",
              "              title=\"Convert this dataframe to an interactive table.\"\n",
              "              style=\"display:none;\">\n",
              "        \n",
              "  <svg xmlns=\"http://www.w3.org/2000/svg\" height=\"24px\"viewBox=\"0 0 24 24\"\n",
              "       width=\"24px\">\n",
              "    <path d=\"M0 0h24v24H0V0z\" fill=\"none\"/>\n",
              "    <path d=\"M18.56 5.44l.94 2.06.94-2.06 2.06-.94-2.06-.94-.94-2.06-.94 2.06-2.06.94zm-11 1L8.5 8.5l.94-2.06 2.06-.94-2.06-.94L8.5 2.5l-.94 2.06-2.06.94zm10 10l.94 2.06.94-2.06 2.06-.94-2.06-.94-.94-2.06-.94 2.06-2.06.94z\"/><path d=\"M17.41 7.96l-1.37-1.37c-.4-.4-.92-.59-1.43-.59-.52 0-1.04.2-1.43.59L10.3 9.45l-7.72 7.72c-.78.78-.78 2.05 0 2.83L4 21.41c.39.39.9.59 1.41.59.51 0 1.02-.2 1.41-.59l7.78-7.78 2.81-2.81c.8-.78.8-2.07 0-2.86zM5.41 20L4 18.59l7.72-7.72 1.47 1.35L5.41 20z\"/>\n",
              "  </svg>\n",
              "      </button>\n",
              "      \n",
              "  <style>\n",
              "    .colab-df-container {\n",
              "      display:flex;\n",
              "      flex-wrap:wrap;\n",
              "      gap: 12px;\n",
              "    }\n",
              "\n",
              "    .colab-df-convert {\n",
              "      background-color: #E8F0FE;\n",
              "      border: none;\n",
              "      border-radius: 50%;\n",
              "      cursor: pointer;\n",
              "      display: none;\n",
              "      fill: #1967D2;\n",
              "      height: 32px;\n",
              "      padding: 0 0 0 0;\n",
              "      width: 32px;\n",
              "    }\n",
              "\n",
              "    .colab-df-convert:hover {\n",
              "      background-color: #E2EBFA;\n",
              "      box-shadow: 0px 1px 2px rgba(60, 64, 67, 0.3), 0px 1px 3px 1px rgba(60, 64, 67, 0.15);\n",
              "      fill: #174EA6;\n",
              "    }\n",
              "\n",
              "    [theme=dark] .colab-df-convert {\n",
              "      background-color: #3B4455;\n",
              "      fill: #D2E3FC;\n",
              "    }\n",
              "\n",
              "    [theme=dark] .colab-df-convert:hover {\n",
              "      background-color: #434B5C;\n",
              "      box-shadow: 0px 1px 3px 1px rgba(0, 0, 0, 0.15);\n",
              "      filter: drop-shadow(0px 1px 2px rgba(0, 0, 0, 0.3));\n",
              "      fill: #FFFFFF;\n",
              "    }\n",
              "  </style>\n",
              "\n",
              "      <script>\n",
              "        const buttonEl =\n",
              "          document.querySelector('#df-bd265ae4-46fb-4a65-aff7-d64384ce0e18 button.colab-df-convert');\n",
              "        buttonEl.style.display =\n",
              "          google.colab.kernel.accessAllowed ? 'block' : 'none';\n",
              "\n",
              "        async function convertToInteractive(key) {\n",
              "          const element = document.querySelector('#df-bd265ae4-46fb-4a65-aff7-d64384ce0e18');\n",
              "          const dataTable =\n",
              "            await google.colab.kernel.invokeFunction('convertToInteractive',\n",
              "                                                     [key], {});\n",
              "          if (!dataTable) return;\n",
              "\n",
              "          const docLinkHtml = 'Like what you see? Visit the ' +\n",
              "            '<a target=\"_blank\" href=https://colab.research.google.com/notebooks/data_table.ipynb>data table notebook</a>'\n",
              "            + ' to learn more about interactive tables.';\n",
              "          element.innerHTML = '';\n",
              "          dataTable['output_type'] = 'display_data';\n",
              "          await google.colab.output.renderOutput(dataTable, element);\n",
              "          const docLink = document.createElement('div');\n",
              "          docLink.innerHTML = docLinkHtml;\n",
              "          element.appendChild(docLink);\n",
              "        }\n",
              "      </script>\n",
              "    </div>\n",
              "  </div>\n",
              "  "
            ]
          },
          "metadata": {}
        }
      ]
    },
    {
      "cell_type": "markdown",
      "source": [
        "## Kesimpulan"
      ],
      "metadata": {
        "id": "JGhDPtZRhK3P"
      }
    },
    {
      "cell_type": "markdown",
      "source": [
        "Berdasarkan hasil evaluasi model di atas, dapat disimpulkan bahwa model terbaik untuk melakukan klasifikasi \"Class\" (pendonor atau bukan pendonor darah) adalah model KNN. Hal ini dilihat dari nilai akurasi pada data uji yang menunjukan bahwa model KNN mempunyai akurasi tertinggi sebesar 0.8093 disusul dengan RandomForest (0.7876)."
      ],
      "metadata": {
        "id": "3JFicOFRzxV-"
      }
    },
    {
      "cell_type": "markdown",
      "source": [
        "## Daftar Referensi"
      ],
      "metadata": {
        "id": "d8uaNcSjhW82"
      }
    },
    {
      "cell_type": "markdown",
      "source": [
        "[1] Rhys, Hefin. \"Machine Learning with R, the Tidyverse, and MLR\". Manning Publications. 2020. Tersedia: [O'Reilly Media](https://learning.oreilly.com/library/view/machine-learning-with/9781617296574/)."
      ],
      "metadata": {
        "id": "gH119hmE0TbG"
      }
    },
    {
      "cell_type": "markdown",
      "source": [
        "## Data Diri"
      ],
      "metadata": {
        "id": "M0S6l_-JhZFO"
      }
    },
    {
      "cell_type": "markdown",
      "source": [
        "- Muhamad Dani\n",
        "- M267Y0595\n",
        "- M06"
      ],
      "metadata": {
        "id": "Fj2bHgKo0UUv"
      }
    }
  ]
}